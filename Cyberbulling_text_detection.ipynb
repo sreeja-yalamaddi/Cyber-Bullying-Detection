{
  "cells": [
    {
      "cell_type": "code",
      "execution_count": null,
      "metadata": {
        "id": "FWqB3XpTTrzS"
      },
      "outputs": [],
      "source": [
        "# change the output font size\n",
        "from IPython.display import HTML\n",
        "shell = get_ipython()\n",
        "\n",
        "def adjust_font_size():\n",
        "  display(HTML('''<style>\n",
        "    body {\n",
        "      font-size: 20px;\n",
        "    }\n",
        "  '''))\n",
        "\n",
        "if adjust_font_size not in shell.events.callbacks['pre_execute']:\n",
        "  shell.events.register('pre_execute', adjust_font_size)"
      ]
    },
    {
      "cell_type": "code",
      "execution_count": null,
      "metadata": {
        "collapsed": true,
        "id": "WDD_twcb_5n8",
        "outputId": "bb9def4a-68ed-47d0-f6dc-54d8732adaab"
      },
      "outputs": [
        {
          "data": {
            "text/html": [
              "<style>\n",
              "    body {\n",
              "      font-size: 20px;\n",
              "    }\n",
              "  "
            ],
            "text/plain": [
              "<IPython.core.display.HTML object>"
            ]
          },
          "metadata": {},
          "output_type": "display_data"
        },
        {
          "name": "stdout",
          "output_type": "stream",
          "text": [
            "Requirement already satisfied: transformers in /home/yxm265/.conda/envs/test/lib/python3.13/site-packages (4.50.0)\n",
            "Requirement already satisfied: filelock in /home/yxm265/.conda/envs/test/lib/python3.13/site-packages (from transformers) (3.18.0)\n",
            "Requirement already satisfied: huggingface-hub<1.0,>=0.26.0 in /home/yxm265/.conda/envs/test/lib/python3.13/site-packages (from transformers) (0.29.3)\n",
            "Requirement already satisfied: numpy>=1.17 in /home/yxm265/.conda/envs/test/lib/python3.13/site-packages (from transformers) (2.2.4)\n",
            "Requirement already satisfied: packaging>=20.0 in /home/yxm265/.conda/envs/test/lib/python3.13/site-packages (from transformers) (24.2)\n",
            "Requirement already satisfied: pyyaml>=5.1 in /home/yxm265/.conda/envs/test/lib/python3.13/site-packages (from transformers) (6.0.2)\n",
            "Requirement already satisfied: regex!=2019.12.17 in /home/yxm265/.conda/envs/test/lib/python3.13/site-packages (from transformers) (2024.11.6)\n",
            "Requirement already satisfied: requests in /home/yxm265/.conda/envs/test/lib/python3.13/site-packages (from transformers) (2.32.3)\n",
            "Requirement already satisfied: tokenizers<0.22,>=0.21 in /home/yxm265/.conda/envs/test/lib/python3.13/site-packages (from transformers) (0.21.1)\n",
            "Requirement already satisfied: safetensors>=0.4.3 in /home/yxm265/.conda/envs/test/lib/python3.13/site-packages (from transformers) (0.5.3)\n",
            "Requirement already satisfied: tqdm>=4.27 in /home/yxm265/.conda/envs/test/lib/python3.13/site-packages (from transformers) (4.67.1)\n",
            "Requirement already satisfied: fsspec>=2023.5.0 in /home/yxm265/.conda/envs/test/lib/python3.13/site-packages (from huggingface-hub<1.0,>=0.26.0->transformers) (2025.3.0)\n",
            "Requirement already satisfied: typing-extensions>=3.7.4.3 in /home/yxm265/.conda/envs/test/lib/python3.13/site-packages (from huggingface-hub<1.0,>=0.26.0->transformers) (4.12.2)\n",
            "Requirement already satisfied: charset_normalizer<4,>=2 in /home/yxm265/.conda/envs/test/lib/python3.13/site-packages (from requests->transformers) (3.4.1)\n",
            "Requirement already satisfied: idna<4,>=2.5 in /home/yxm265/.conda/envs/test/lib/python3.13/site-packages (from requests->transformers) (3.10)\n",
            "Requirement already satisfied: urllib3<3,>=1.21.1 in /home/yxm265/.conda/envs/test/lib/python3.13/site-packages (from requests->transformers) (2.3.0)\n",
            "Requirement already satisfied: certifi>=2017.4.17 in /home/yxm265/.conda/envs/test/lib/python3.13/site-packages (from requests->transformers) (2025.1.31)\n"
          ]
        }
      ],
      "source": [
        "!pip install transformers"
      ]
    },
    {
      "cell_type": "code",
      "execution_count": null,
      "metadata": {
        "collapsed": true,
        "id": "s9Rnn1qqvHWG",
        "outputId": "791aac58-24ba-48ad-d0ac-de1b632018b9"
      },
      "outputs": [
        {
          "data": {
            "text/html": [
              "<style>\n",
              "    body {\n",
              "      font-size: 20px;\n",
              "    }\n",
              "  "
            ],
            "text/plain": [
              "<IPython.core.display.HTML object>"
            ]
          },
          "metadata": {},
          "output_type": "display_data"
        },
        {
          "name": "stdout",
          "output_type": "stream",
          "text": [
            "Looking in indexes: https://download.pytorch.org/whl/cu121\n",
            "Collecting torch\n",
            "  Using cached https://download.pytorch.org/whl/cu121/torch-2.5.1%2Bcu121-cp313-cp313-linux_x86_64.whl (780.4 MB)\n",
            "Collecting torchvision\n",
            "  Using cached https://download.pytorch.org/whl/torchvision-0.2.0-py2.py3-none-any.whl (48 kB)\n",
            "\u001b[31mERROR: Could not find a version that satisfies the requirement torchaudio (from versions: none)\u001b[0m\u001b[31m\n",
            "\u001b[0m\u001b[31mERROR: No matching distribution found for torchaudio\u001b[0m\u001b[31m\n",
            "\u001b[0m"
          ]
        }
      ],
      "source": [
        "!pip install torch torchvision torchaudio --index-url https://download.pytorch.org/whl/cu121"
      ]
    },
    {
      "cell_type": "code",
      "execution_count": null,
      "metadata": {
        "id": "8YL509XqAMS4",
        "outputId": "5720edec-551a-4d1a-8850-87cb50140be7"
      },
      "outputs": [
        {
          "data": {
            "text/html": [
              "<style>\n",
              "    body {\n",
              "      font-size: 20px;\n",
              "    }\n",
              "  "
            ],
            "text/plain": [
              "<IPython.core.display.HTML object>"
            ]
          },
          "metadata": {},
          "output_type": "display_data"
        }
      ],
      "source": [
        "import pandas as pd\n",
        "import numpy as np\n",
        "\n",
        "import torch\n",
        "import torch.nn as nn\n",
        "import torch.nn.functional as F\n",
        "from torch.utils.data import Dataset, DataLoader\n",
        "from transformers import BertTokenizer, BertModel\n",
        "from transformers import AdamW\n",
        "\n",
        "import matplotlib.pyplot as plt\n",
        "\n",
        "from tqdm.notebook import tqdm\n",
        "# hide warnings\n",
        "import warnings\n",
        "warnings.filterwarnings('ignore')\n",
        "# Set the seed for reproducibility\n",
        "seed = 42\n",
        "torch.manual_seed(seed)  # For CPU\n",
        "if torch.cuda.is_available():\n",
        "    torch.cuda.manual_seed_all(seed)  # For all GPUs"
      ]
    },
    {
      "cell_type": "code",
      "execution_count": null,
      "metadata": {
        "id": "Y4Jjl1YI-2z3",
        "outputId": "229fec96-d1c9-4110-fd19-6f9bad85220c"
      },
      "outputs": [
        {
          "data": {
            "text/html": [
              "<style>\n",
              "    body {\n",
              "      font-size: 20px;\n",
              "    }\n",
              "  "
            ],
            "text/plain": [
              "<IPython.core.display.HTML object>"
            ]
          },
          "metadata": {},
          "output_type": "display_data"
        },
        {
          "data": {
            "text/plain": [
              "device(type='cuda')"
            ]
          },
          "execution_count": 6,
          "metadata": {},
          "output_type": "execute_result"
        }
      ],
      "source": [
        "# change the device to gpu if available\n",
        "device = torch.device('cuda' if torch.cuda.is_available() else 'cpu')\n",
        "device"
      ]
    },
    {
      "cell_type": "markdown",
      "metadata": {
        "id": "Qhgxe-X_t1iy"
      },
      "source": [
        "### Data Preprocessing"
      ]
    },
    {
      "cell_type": "code",
      "execution_count": null,
      "metadata": {
        "id": "PChu_If18e7-",
        "outputId": "dfabec16-647a-476f-f0ee-892d3ffb19b7"
      },
      "outputs": [
        {
          "data": {
            "text/html": [
              "<style>\n",
              "    body {\n",
              "      font-size: 20px;\n",
              "    }\n",
              "  "
            ],
            "text/plain": [
              "<IPython.core.display.HTML object>"
            ]
          },
          "metadata": {},
          "output_type": "display_data"
        },
        {
          "name": "stdout",
          "output_type": "stream",
          "text": [
            "Total number of samples: (13159, 2)\n",
            "                                                    text  label\n",
            "7351   Q: yu always tell me how much you loves meh<br...      0\n",
            "6401   Q: my day has been fine thanks  its nearly 11p...      0\n",
            "389    Q: If you could BE any Skins character  who wo...      0\n",
            "3173   Q: Favourite website on the net?<br>A: formspr...      0\n",
            "10677  Q: hold on... cute in what way?<br>A: Cute cut...      0\n"
          ]
        }
      ],
      "source": [
        "\n",
        "main_df = pd.read_csv('./data/Cyberbullying_dataset.csv', sep = '\\t')\n",
        "\n",
        "# Let's see how many smaples we have\n",
        "print('Total number of samples:', main_df.shape)\n",
        "main_df = main_df.sample(n = main_df.shape[0])\n",
        "main_df = main_df[['text', 'label']]\n",
        "\n",
        "# Let's take a look at a few samples from our dataset\n",
        "print(main_df.head())"
      ]
    },
    {
      "cell_type": "markdown",
      "metadata": {
        "id": "VAcq4iLOTFXI"
      },
      "source": [
        "Note:\n",
        "* 0 indicates non-cyberbullying\n",
        "* 1 indicates cyberbullying"
      ]
    },
    {
      "cell_type": "code",
      "execution_count": null,
      "metadata": {
        "id": "fgmJPkS2ga3P",
        "outputId": "6fe957f2-0405-41b0-ec11-cde26884dc17"
      },
      "outputs": [
        {
          "data": {
            "text/html": [
              "<style>\n",
              "    body {\n",
              "      font-size: 20px;\n",
              "    }\n",
              "  "
            ],
            "text/plain": [
              "<IPython.core.display.HTML object>"
            ]
          },
          "metadata": {},
          "output_type": "display_data"
        },
        {
          "name": "stdout",
          "output_type": "stream",
          "text": [
            "\n",
            "Training set:\n",
            " label\n",
            "0    7869\n",
            "1     552\n",
            "Name: count, dtype: int64\n",
            "\n",
            "Validation set:\n",
            " label\n",
            "0    1972\n",
            "1     134\n",
            "Name: count, dtype: int64\n",
            "\n",
            "Test set:\n",
            " label\n",
            "0    2450\n",
            "1     182\n",
            "Name: count, dtype: int64\n"
          ]
        }
      ],
      "source": [
        "# let's divide the dataset into non-cyberbullying and cyberbullying samples\n",
        "o_class = main_df.loc[main_df.label == 0, :]\n",
        "l_class = main_df.loc[main_df.label == 1, :]\n",
        "\n",
        "# let's create train, val and test splits\n",
        "train_val = main_df.iloc[:int(main_df.shape[0] * .80)]\n",
        "test_df = main_df.iloc[int(main_df.shape[0] * .80):]\n",
        "train_df = train_val.iloc[:int(train_val.shape[0] * .80)]\n",
        "val_df = train_val.iloc[int(train_val.shape[0] * .80):]\n",
        "\n",
        "#print(train.shape, val.shape, test.shape)\n",
        "print('\\nTraining set:\\n', train_df.label.value_counts())\n",
        "print('\\nValidation set:\\n', val_df.label.value_counts())\n",
        "print('\\nTest set:\\n', test_df.label.value_counts())"
      ]
    },
    {
      "cell_type": "code",
      "execution_count": null,
      "metadata": {
        "id": "6ncekHdwD7Uc",
        "outputId": "8f13c2e5-cfa0-452e-aa59-8e78ef76569e"
      },
      "outputs": [
        {
          "data": {
            "text/html": [
              "<style>\n",
              "    body {\n",
              "      font-size: 20px;\n",
              "    }\n",
              "  "
            ],
            "text/plain": [
              "<IPython.core.display.HTML object>"
            ]
          },
          "metadata": {},
          "output_type": "display_data"
        }
      ],
      "source": [
        "tokenizer = BertTokenizer.from_pretrained('bert-base-uncased')"
      ]
    },
    {
      "cell_type": "code",
      "execution_count": null,
      "metadata": {
        "id": "ZgPu_ZqR-2z6",
        "outputId": "a885b24c-7a4b-41be-c991-b4cc57014733"
      },
      "outputs": [
        {
          "data": {
            "text/html": [
              "<style>\n",
              "    body {\n",
              "      font-size: 20px;\n",
              "    }\n",
              "  "
            ],
            "text/plain": [
              "<IPython.core.display.HTML object>"
            ]
          },
          "metadata": {},
          "output_type": "display_data"
        },
        {
          "name": "stdout",
          "output_type": "stream",
          "text": [
            "The number of unique words in the vocabulary: 30522\n",
            "The number of labels: 2\n"
          ]
        }
      ],
      "source": [
        "# Prepare the dataset\n",
        "class CyberbullyingDataset(Dataset):\n",
        "    def __init__(self, df, tokenizer, max_len):\n",
        "        self.df = df\n",
        "        self.tokenizer = tokenizer\n",
        "        self.max_len = max_len\n",
        "        self.text = df.text.to_list()\n",
        "        self.label = df.label.to_list()\n",
        "\n",
        "    def __len__(self):\n",
        "        return len(self.text)\n",
        "\n",
        "    def __getitem__(self, index):\n",
        "        text = str(self.text[index])\n",
        "        text = ' '.join(text.split())\n",
        "\n",
        "        inputs = self.tokenizer.encode_plus(\n",
        "            text, # Sentence to encode.\n",
        "            None, # Add another sequence to the inputs. 'None' means no other sequence is added.\n",
        "            add_special_tokens = True, # Add '[CLS]' and '[SEP]'\n",
        "            max_length = self.max_len, # Pad & truncate all sentences.\n",
        "            pad_to_max_length = True, # Pad all samples to the same length.\n",
        "            truncation = True, # Truncate all samples to the same length.\n",
        "            return_token_type_ids = False,\n",
        "            return_tensors = 'pt' # Return pytorch tensors.\n",
        "        )\n",
        "        label = torch.tensor(self.label[index], dtype = torch.long)\n",
        "\n",
        "        return {\n",
        "            'text': text,\n",
        "            'input_ids': inputs['input_ids'].flatten(),\n",
        "            'attention_mask': inputs['attention_mask'].flatten(),\n",
        "            'label': label\n",
        "        }\n",
        "\n",
        "# The number of unique words in the vocabulary and the number of labels\n",
        "VOCAB_SIZE = tokenizer.vocab_size\n",
        "NUM_LABELS = train_df.label.nunique()\n",
        "print(\"The number of unique words in the vocabulary:\", VOCAB_SIZE)\n",
        "print(\"The number of labels:\", NUM_LABELS)"
      ]
    },
    {
      "cell_type": "markdown",
      "metadata": {
        "id": "up8LN0BafTmB"
      },
      "source": [
        "In order to make the model understand both cyberbullying and non-cyberbullying data, we typically balance the datasets."
      ]
    },
    {
      "cell_type": "code",
      "execution_count": null,
      "metadata": {
        "id": "5ddAHHOU-2z6",
        "outputId": "cde56c3c-d7dc-471a-aa77-2ac83cf9ba35"
      },
      "outputs": [
        {
          "data": {
            "text/html": [
              "<style>\n",
              "    body {\n",
              "      font-size: 20px;\n",
              "    }\n",
              "  "
            ],
            "text/plain": [
              "<IPython.core.display.HTML object>"
            ]
          },
          "metadata": {},
          "output_type": "display_data"
        },
        {
          "name": "stdout",
          "output_type": "stream",
          "text": [
            "\n",
            "Training set:\n",
            " label\n",
            "0    552\n",
            "1    552\n",
            "Name: count, dtype: int64\n",
            "\n",
            "Validation set:\n",
            " label\n",
            "1    134\n",
            "0    134\n",
            "Name: count, dtype: int64\n",
            "\n",
            "Test set:\n",
            " label\n",
            "1    182\n",
            "0    182\n",
            "Name: count, dtype: int64\n"
          ]
        }
      ],
      "source": [
        "# Build a balanced dataset\n",
        "def balence_data(dataframe):\n",
        "    o_class = dataframe.loc[dataframe.label == 0, :]\n",
        "    l_class = dataframe.loc[dataframe.label == 1, :]\n",
        "    o_class = o_class.sample(n = l_class.shape[0])\n",
        "    dataframe = pd.concat([o_class, l_class], axis = 0)\n",
        "    dataframe = dataframe.sample(n = dataframe.shape[0])\n",
        "    return dataframe\n",
        "\n",
        "train_df = balence_data(train_df)\n",
        "val_df = balence_data(val_df)\n",
        "test_df = balence_data(test_df)\n",
        "\n",
        "print('\\nTraining set:\\n', train_df.label.value_counts())\n",
        "print('\\nValidation set:\\n', val_df.label.value_counts())\n",
        "print('\\nTest set:\\n', test_df.label.value_counts())"
      ]
    },
    {
      "cell_type": "code",
      "execution_count": null,
      "metadata": {
        "id": "LX-oT0tu-2z6",
        "outputId": "7bb460e3-91b1-4f60-ca06-304bf3158c6b"
      },
      "outputs": [
        {
          "data": {
            "text/html": [
              "<style>\n",
              "    body {\n",
              "      font-size: 20px;\n",
              "    }\n",
              "  "
            ],
            "text/plain": [
              "<IPython.core.display.HTML object>"
            ]
          },
          "metadata": {},
          "output_type": "display_data"
        },
        {
          "name": "stdout",
          "output_type": "stream",
          "text": [
            "After we build the dataloaders, we can see the number of batches in each dataloader. It means we can train the model with 32 samples in each time.\n",
            "The number of batches in the training dataloader: 35\n",
            "The number of batches in the validation dataloader: 9\n",
            "The number of batches in the test dataloader: 12\n"
          ]
        }
      ],
      "source": [
        "# Normally, we prepare the dataset with batches, it can help us to train the model faster.\n",
        "MAX_LEN = 120\n",
        "BATCH_SIZE = 32\n",
        "\n",
        "def create_data_loader(df, tokenizer, max_len, batch_size):\n",
        "    ds = CyberbullyingDataset(df, tokenizer, max_len)\n",
        "    return DataLoader(ds, batch_size = batch_size)\n",
        "\n",
        "# Create the dataloaders\n",
        "train_data_loader = create_data_loader(train_df, tokenizer, MAX_LEN, BATCH_SIZE)\n",
        "val_data_loader = create_data_loader(val_df, tokenizer, MAX_LEN, BATCH_SIZE)\n",
        "test_data_loader = create_data_loader(test_df, tokenizer, MAX_LEN, BATCH_SIZE)\n",
        "\n",
        "print(\"After we build the dataloaders, we can see the number of batches in each dataloader. It means we can train the model with {} samples in each time.\".format(BATCH_SIZE))\n",
        "print(\"The number of batches in the training dataloader:\", len(train_data_loader))\n",
        "print(\"The number of batches in the validation dataloader:\", len(val_data_loader))\n",
        "print(\"The number of batches in the test dataloader:\", len(test_data_loader))"
      ]
    },
    {
      "cell_type": "markdown",
      "metadata": {
        "id": "4bgwdEg2t8KN"
      },
      "source": [
        "### AI Model Definition"
      ]
    },
    {
      "cell_type": "code",
      "execution_count": null,
      "metadata": {
        "id": "wyJltbQi-2z6",
        "outputId": "eb410ef3-2d93-4deb-8942-e710d48d068e"
      },
      "outputs": [
        {
          "data": {
            "text/html": [
              "<style>\n",
              "    body {\n",
              "      font-size: 20px;\n",
              "    }\n",
              "  "
            ],
            "text/plain": [
              "<IPython.core.display.HTML object>"
            ]
          },
          "metadata": {},
          "output_type": "display_data"
        }
      ],
      "source": [
        "# defining hyperparameters\n",
        "N_EPOCHS = 5 # The number of epochs\n",
        "LEARNING_RATE = 2e-5 # The learning rate\n",
        "Num_classes = 2 # The number of classes"
      ]
    },
    {
      "cell_type": "code",
      "execution_count": null,
      "metadata": {
        "id": "jC99vfjfgO9X",
        "outputId": "9c4853fd-e452-4baf-86b5-9ac9d96c4dec"
      },
      "outputs": [
        {
          "data": {
            "text/html": [
              "<style>\n",
              "    body {\n",
              "      font-size: 20px;\n",
              "    }\n",
              "  "
            ],
            "text/plain": [
              "<IPython.core.display.HTML object>"
            ]
          },
          "metadata": {},
          "output_type": "display_data"
        }
      ],
      "source": [
        "# Download the tokenizer and model\n",
        "bert_model = BertModel.from_pretrained('bert-base-uncased', output_hidden_states = True)\n",
        "bert_model = bert_model.to(device)"
      ]
    },
    {
      "cell_type": "code",
      "execution_count": null,
      "metadata": {
        "cellView": "form",
        "id": "0bXKEviBVthO",
        "outputId": "3e30e4c2-edc8-419f-efa7-4c1f1361fcea"
      },
      "outputs": [
        {
          "data": {
            "text/html": [
              "<style>\n",
              "    body {\n",
              "      font-size: 20px;\n",
              "    }\n",
              "  "
            ],
            "text/plain": [
              "<IPython.core.display.HTML object>"
            ]
          },
          "metadata": {},
          "output_type": "display_data"
        }
      ],
      "source": [
        "# Define the model\n",
        "class CyberbullyingDetecter(nn.Module):\n",
        "    def __init__(self, bert_model, Num_classes):\n",
        "            super(CyberbullyingDetecter, self).__init__()\n",
        "            self.bert = bert_model\n",
        "            self.drop = nn.Dropout(p=0.3)\n",
        "            self.out = nn.Linear(self.bert.config.hidden_size, Num_classes)\n",
        "\n",
        "    def forward(self, input_ids, attention_mask):\n",
        "        pooled_output = self.bert(\n",
        "            input_ids = input_ids,\n",
        "            attention_mask = attention_mask,\n",
        "        )['pooler_output']\n",
        "        output = self.drop(pooled_output)\n",
        "        return self.out(output)\n",
        "\n",
        "# Create the model\n",
        "model = CyberbullyingDetecter(bert_model, Num_classes)\n",
        "model = model.to(device)"
      ]
    },
    {
      "cell_type": "code",
      "execution_count": null,
      "metadata": {
        "id": "MFskMvYOV7UY",
        "outputId": "110fa817-f184-4369-917e-3190c79c0d8d"
      },
      "outputs": [
        {
          "data": {
            "text/html": [
              "<style>\n",
              "    body {\n",
              "      font-size: 20px;\n",
              "    }\n",
              "  "
            ],
            "text/plain": [
              "<IPython.core.display.HTML object>"
            ]
          },
          "metadata": {},
          "output_type": "display_data"
        }
      ],
      "source": [
        "# Define and the loss function and optimizer\n",
        "criterion = nn.CrossEntropyLoss().to(device)\n",
        "optimizer = AdamW(model.parameters(), lr=LEARNING_RATE, correct_bias=False)"
      ]
    },
    {
      "cell_type": "code",
      "execution_count": null,
      "metadata": {
        "id": "ta_M-B63h-iu",
        "outputId": "0760e587-62d0-485b-aa4b-0092db7761e4"
      },
      "outputs": [
        {
          "data": {
            "text/html": [
              "<style>\n",
              "    body {\n",
              "      font-size: 20px;\n",
              "    }\n",
              "  "
            ],
            "text/plain": [
              "<IPython.core.display.HTML object>"
            ]
          },
          "metadata": {},
          "output_type": "display_data"
        }
      ],
      "source": [
        "# Let's define the training and testing procedures for our AI model\n",
        "# Lets define our training steps\n",
        "def accuracy(preds, labels):\n",
        "    preds = torch.argmax(preds, dim=1).flatten()\n",
        "    labels = labels.flatten()\n",
        "    return torch.sum(preds == labels) / len(labels)\n",
        "\n",
        "def train(model, data_loader, optimizer, criterion):\n",
        "  epoch_loss = 0\n",
        "  epoch_acc = 0\n",
        "\n",
        "  model.train()\n",
        "  for d in tqdm(data_loader):\n",
        "    inputs_ids = d['input_ids'].to(device)\n",
        "    attention_mask = d['attention_mask'].to(device)\n",
        "    labels = d['label'].to(device)\n",
        "    # print(inputs_ids.shape, attention_mask.shape, label.shape)\n",
        "    outputs = model(inputs_ids, attention_mask)\n",
        "\n",
        "    _, preds = torch.max(outputs, dim=1)\n",
        "    loss = criterion(outputs, labels)\n",
        "    acc = accuracy(outputs, labels)\n",
        "\n",
        "    loss.backward()\n",
        "    optimizer.step()\n",
        "    optimizer.zero_grad()\n",
        "\n",
        "    epoch_loss += loss.item()\n",
        "    epoch_acc += acc.item()\n",
        "\n",
        "  return epoch_loss / len(data_loader), epoch_acc / len(data_loader)\n",
        "\n",
        "# Lets define our testing steps\n",
        "def evaluate(model, data_loader, criterion):\n",
        "    epoch_loss = 0\n",
        "    epoch_acc = 0\n",
        "\n",
        "    model.eval()\n",
        "    with torch.no_grad():\n",
        "      for d in data_loader:\n",
        "        inputs_ids = d[\"input_ids\"].to(device)\n",
        "        attention_mask = d[\"attention_mask\"].to(device)\n",
        "        labels = d[\"label\"].to(device)\n",
        "        outputs = model(inputs_ids, attention_mask)\n",
        "\n",
        "        _, preds = torch.max(outputs, dim=1)\n",
        "        loss = criterion(outputs, labels)\n",
        "        acc = accuracy(outputs, labels)\n",
        "\n",
        "        epoch_loss += loss.item()\n",
        "        epoch_acc += acc.item()\n",
        "\n",
        "    return epoch_loss / len(data_loader), epoch_acc / len(data_loader)\n",
        "\n",
        "# define a function for evaluation\n",
        "def predict_cb(sentence):\n",
        "    sentence = str(sentence)\n",
        "    sentence = ' '.join(sentence.split())\n",
        "    inputs = tokenizer.encode_plus(\n",
        "        sentence, # Sentence to encode.\n",
        "        None, # Add another sequence to the inputs. 'None' means no other sequence is added.\n",
        "        add_special_tokens = True, # Add '[CLS]' and '[SEP]'\n",
        "        max_length = MAX_LEN, # Pad & truncate all sentences.\n",
        "        pad_to_max_length = True, # Pad all samples to the same length.\n",
        "        truncation = True, # Truncate all samples to the same length.\n",
        "        return_token_type_ids = True # Return token_type_ids\n",
        "    )\n",
        "    output = model(torch.tensor(inputs['input_ids']).unsqueeze(0).to(device), torch.tensor(inputs['attention_mask']).unsqueeze(0).to(device))\n",
        "    # print(output)\n",
        "    preds, ind= torch.max(F.softmax(output, dim=-1), 1)\n",
        "    if ind.item() == 1:\n",
        "        return preds, ind, 'Cyberbullying detected.'\n",
        "    else:\n",
        "        return preds, ind, 'Cyberbullying not detected.'"
      ]
    },
    {
      "cell_type": "markdown",
      "metadata": {
        "id": "ww8dQTdzuDjY"
      },
      "source": [
        "### Training Process"
      ]
    },
    {
      "cell_type": "code",
      "execution_count": null,
      "metadata": {
        "cellView": "form",
        "colab": {
          "referenced_widgets": [
            "d5e7fa331683496aaa23a2d63c20df6c",
            "eb08a381e4bf4a56bd9b882c8987fb39",
            "0037a83d227c4f4b83a671c6c346e893",
            "188a4827fca14305928b7a370e77c2a6",
            "25a670fa2ca244bc92aae9db158d09bd"
          ]
        },
        "id": "O9qKQZjqXJIW",
        "outputId": "85cfdc71-c3c2-4077-c2a5-37aad90f2474"
      },
      "outputs": [
        {
          "data": {
            "text/html": [
              "<style>\n",
              "    body {\n",
              "      font-size: 20px;\n",
              "    }\n",
              "  "
            ],
            "text/plain": [
              "<IPython.core.display.HTML object>"
            ]
          },
          "metadata": {},
          "output_type": "display_data"
        },
        {
          "data": {
            "application/vnd.jupyter.widget-view+json": {
              "model_id": "d5e7fa331683496aaa23a2d63c20df6c",
              "version_major": 2,
              "version_minor": 0
            },
            "text/plain": [
              "  0%|          | 0/35 [00:00<?, ?it/s]"
            ]
          },
          "metadata": {},
          "output_type": "display_data"
        },
        {
          "name": "stdout",
          "output_type": "stream",
          "text": [
            "| Epoch: 01 | Train Loss: 0.564 | Train Acc: 70.45% | Val. Loss: 0.373 | Val. Acc: 82.99% |\n"
          ]
        },
        {
          "data": {
            "application/vnd.jupyter.widget-view+json": {
              "model_id": "eb08a381e4bf4a56bd9b882c8987fb39",
              "version_major": 2,
              "version_minor": 0
            },
            "text/plain": [
              "  0%|          | 0/35 [00:00<?, ?it/s]"
            ]
          },
          "metadata": {},
          "output_type": "display_data"
        },
        {
          "name": "stdout",
          "output_type": "stream",
          "text": [
            "| Epoch: 02 | Train Loss: 0.321 | Train Acc: 87.05% | Val. Loss: 0.380 | Val. Acc: 86.11% |\n"
          ]
        },
        {
          "data": {
            "application/vnd.jupyter.widget-view+json": {
              "model_id": "0037a83d227c4f4b83a671c6c346e893",
              "version_major": 2,
              "version_minor": 0
            },
            "text/plain": [
              "  0%|          | 0/35 [00:00<?, ?it/s]"
            ]
          },
          "metadata": {},
          "output_type": "display_data"
        },
        {
          "name": "stdout",
          "output_type": "stream",
          "text": [
            "| Epoch: 03 | Train Loss: 0.123 | Train Acc: 96.34% | Val. Loss: 0.544 | Val. Acc: 85.42% |\n"
          ]
        },
        {
          "data": {
            "application/vnd.jupyter.widget-view+json": {
              "model_id": "188a4827fca14305928b7a370e77c2a6",
              "version_major": 2,
              "version_minor": 0
            },
            "text/plain": [
              "  0%|          | 0/35 [00:00<?, ?it/s]"
            ]
          },
          "metadata": {},
          "output_type": "display_data"
        },
        {
          "name": "stdout",
          "output_type": "stream",
          "text": [
            "| Epoch: 04 | Train Loss: 0.056 | Train Acc: 98.48% | Val. Loss: 0.572 | Val. Acc: 85.42% |\n"
          ]
        },
        {
          "data": {
            "application/vnd.jupyter.widget-view+json": {
              "model_id": "25a670fa2ca244bc92aae9db158d09bd",
              "version_major": 2,
              "version_minor": 0
            },
            "text/plain": [
              "  0%|          | 0/35 [00:00<?, ?it/s]"
            ]
          },
          "metadata": {},
          "output_type": "display_data"
        },
        {
          "name": "stdout",
          "output_type": "stream",
          "text": [
            "| Epoch: 05 | Train Loss: 0.024 | Train Acc: 99.11% | Val. Loss: 0.750 | Val. Acc: 83.10% |\n"
          ]
        }
      ],
      "source": [
        "# Let's train our model\n",
        "for epoch in range(N_EPOCHS):\n",
        "    train_loss, train_acc = train(model, train_data_loader, optimizer, criterion)\n",
        "    valid_loss, valid_acc = evaluate(model, val_data_loader, criterion)\n",
        "\n",
        "    print(f'| Epoch: {epoch+1:02} | Train Loss: {train_loss:.3f} | Train Acc: {train_acc*100:.2f}% | Val. Loss: {valid_loss:.3f} | Val. Acc: {valid_acc*100:.2f}% |')"
      ]
    },
    {
      "cell_type": "markdown",
      "metadata": {
        "id": "BLZTlQq9fTmH"
      },
      "source": [
        "### Model Evaluation"
      ]
    },
    {
      "cell_type": "code",
      "execution_count": null,
      "metadata": {
        "id": "LD0X0Pn5fTmH",
        "outputId": "af286f68-4d69-4c13-c695-0fc73a4ddbd0"
      },
      "outputs": [
        {
          "data": {
            "text/html": [
              "<style>\n",
              "    body {\n",
              "      font-size: 20px;\n",
              "    }\n",
              "  "
            ],
            "text/plain": [
              "<IPython.core.display.HTML object>"
            ]
          },
          "metadata": {},
          "output_type": "display_data"
        },
        {
          "name": "stdout",
          "output_type": "stream",
          "text": [
            "Final Training Accuracy: 99.11%\n"
          ]
        }
      ],
      "source": [
        "#TODO: add your code below to print the final training accuracy out\n",
        "print(f'Final Training Accuracy: {train_acc*100:.2f}%')"
      ]
    },
    {
      "cell_type": "code",
      "execution_count": null,
      "metadata": {
        "id": "lvGp6HYWfTmH",
        "outputId": "ba9bfcc1-b42d-43fe-8846-fe11f8f48511"
      },
      "outputs": [
        {
          "data": {
            "text/html": [
              "<style>\n",
              "    body {\n",
              "      font-size: 20px;\n",
              "    }\n",
              "  "
            ],
            "text/plain": [
              "<IPython.core.display.HTML object>"
            ]
          },
          "metadata": {},
          "output_type": "display_data"
        },
        {
          "name": "stdout",
          "output_type": "stream",
          "text": [
            "| Test Loss: 0.741 | Test Acc: 83.25% |\n"
          ]
        }
      ],
      "source": [
        "test_loss, test_acc = evaluate(model, test_data_loader, criterion)\n",
        "print(f'| Test Loss: {test_loss:.3f} | Test Acc: {test_acc*100:.2f}% |')"
      ]
    },
    {
      "cell_type": "markdown",
      "metadata": {
        "id": "hdkbo7ZDuIjV"
      },
      "source": [
        "### Inference"
      ]
    },
    {
      "cell_type": "code",
      "execution_count": null,
      "metadata": {
        "id": "j65tPz1ufTmI",
        "outputId": "93d964fe-19da-4b4f-fbd8-f348ebf54b9d"
      },
      "outputs": [
        {
          "data": {
            "text/html": [
              "<style>\n",
              "    body {\n",
              "      font-size: 20px;\n",
              "    }\n",
              "  "
            ],
            "text/plain": [
              "<IPython.core.display.HTML object>"
            ]
          },
          "metadata": {},
          "output_type": "display_data"
        },
        {
          "name": "stdout",
          "output_type": "stream",
          "text": [
            "Text: you guys are a bunch of losers, fuck you\n",
            "Prediction: Cyberbullying detected. | Confidence: 99.04%\n",
            "=========================================\n",
            "Text: I'm never going to see your little pathetic self again\n",
            "Prediction: Cyberbullying detected. | Confidence: 99.95%\n",
            "=========================================\n",
            "Text: She looks really nice today!\n",
            "Prediction: Cyberbullying not detected. | Confidence: 99.84%\n"
          ]
        }
      ],
      "source": [
        "#TODO: complete the code below\n",
        "# Sample texts\n",
        "text1 = \"you guys are a bunch of losers, fuck you\"\n",
        "ret1 = predict_cb(text1)\n",
        "print(f\"Text: {text1}\\nPrediction: {ret1[2]} | Confidence: {ret1[0].item() * 100:.2f}%\")\n",
        "\n",
        "print(\"=========================================\")\n",
        "\n",
        "text2 = \"I'm never going to see your little pathetic self again\"\n",
        "ret2 = predict_cb(text2)\n",
        "print(f\"Text: {text2}\\nPrediction: {ret2[2]} | Confidence: {ret2[0].item() * 100:.2f}%\")\n",
        "\n",
        "print(\"=========================================\")\n",
        "\n",
        "text3 = \"She looks really nice today!\"\n",
        "ret3 = predict_cb(text3)\n",
        "print(f\"Text: {text3}\\nPrediction: {ret3[2]} | Confidence: {ret3[0].item() * 100:.2f}%\")"
      ]
    },
    {
      "cell_type": "markdown",
      "metadata": {
        "id": "VXMr2u_BfTmI"
      },
      "source": [
        "## Hyperparameter Tuning"
      ]
    },
    {
      "cell_type": "code",
      "execution_count": null,
      "metadata": {
        "id": "H20ow6NzfTmI",
        "outputId": "a08101ee-a2d1-40b5-df34-4a11cb3197df"
      },
      "outputs": [
        {
          "data": {
            "text/html": [
              "<style>\n",
              "    body {\n",
              "      font-size: 20px;\n",
              "    }\n",
              "  "
            ],
            "text/plain": [
              "<IPython.core.display.HTML object>"
            ]
          },
          "metadata": {},
          "output_type": "display_data"
        }
      ],
      "source": [
        "# @title A fast training function\n",
        "def train_model(model, train_data_loader, val_data_loader, number_of_epochs, learning_rate, verbose=True):\n",
        "    \"\"\"\n",
        "    Trains our AI model and plots the learning curve\n",
        "    Arguments:\n",
        "        model: model to be trained\n",
        "        train_iterator: an iterator over the training set\n",
        "        validation_iterator: an iterator over the validation set\n",
        "        number_of_epochs: The number of times to go through our entire dataset\n",
        "        optimizer: the optimization function, defaults to None\n",
        "        criterion: the loss function, defaults to None\n",
        "        learning_rate: the learning rate, defaults to 0.001\n",
        "        verbose: Boolean - whether to print accuracy and loss\n",
        "    Returns:\n",
        "        learning_curve: Dictionary - contains variables for plotting the learning curve\n",
        "    \"\"\"\n",
        "\n",
        "    # initialize variables for plotting\n",
        "    epochs = [i for i in range(number_of_epochs)]\n",
        "    train_losses = []\n",
        "    validation_losses = []\n",
        "    validation_accs = []\n",
        "\n",
        "    # define the optimizer and loss function\n",
        "    optimizer = AdamW(model.parameters(), lr=learning_rate, correct_bias=False)\n",
        "    criterion = nn.CrossEntropyLoss().to(device)\n",
        "\n",
        "    model = model.to(device)\n",
        "\n",
        "    # train the model\n",
        "    for epoch in range(number_of_epochs):\n",
        "        train_loss, train_acc = train(model, train_data_loader, optimizer, criterion)\n",
        "        valid_loss, valid_acc = evaluate(model, val_data_loader, criterion)\n",
        "        train_losses.append(train_loss)\n",
        "        validation_losses.append(valid_loss)\n",
        "        validation_accs.append(valid_acc)\n",
        "        if verbose:\n",
        "            print(f'| Epoch: {epoch+1:02} | Train Loss: {train_loss:.3f} | Train Acc: {train_acc*100:.2f}% | Val. Loss: {valid_loss:.3f} | Val. Acc: {valid_acc*100:.2f}% |')\n",
        "\n",
        "    test_loss, test_acc = evaluate(model, test_data_loader, criterion)\n",
        "    if verbose:\n",
        "        print(f'Test Loss: {test_loss:.3f} | Test Acc: {test_acc*100:.2f}% |')\n",
        "    print()\n",
        "\n",
        "    epochs = np.asarray(epochs)\n",
        "    train_losses = np.asarray(train_losses)\n",
        "    validation_losses = np.asarray(validation_losses)\n",
        "    validation_accs = np.asarray(validation_accs)\n",
        "\n",
        "    learning_curve = {\n",
        "        'epochs': epochs,\n",
        "        'train_losses': train_losses,\n",
        "        'validation_losses': validation_losses,\n",
        "        'validation_accs': validation_accs,\n",
        "        'learning_rate': learning_rate,\n",
        "    }\n",
        "\n",
        "    return learning_curve"
      ]
    },
    {
      "cell_type": "markdown",
      "metadata": {
        "id": "EQLpW74TfTmI"
      },
      "source": [
        "\n",
        "**Finding a suitable epoch number**\n"
      ]
    },
    {
      "cell_type": "code",
      "execution_count": null,
      "metadata": {
        "colab": {
          "referenced_widgets": [
            "8d7bc4bb14b847acbe39883d9b3dcf1c",
            "cf9e1b0a039840fc9662f0a2833d700f",
            "9d3e5874b3fd48338e1df5a56e71d3cc",
            "a9b5dd75da5048a9a3069cf7cd7c8940",
            "b75cfb12f5c8438aad97daf88a53c529",
            "b46e703d79454c35ba5e27d8e6e82981",
            "187a3a6c57f44e96b7c8250ef70b5e02",
            "8738bcca315e48d8bd30202b81db9b60",
            "f693d615936643f392309280f22a305f",
            "af0abd31780245a9818855a7ff325a82",
            "ef75ebd1924543cdb7aedd670d5b8941",
            "b45b5f188e2d4fada407492c7d4f8ac0",
            "6bac3cc9e8184de09c1816dc66bfce3e",
            "17670b38cb854975982ae90ca868d300",
            "8326ed033b7c48b99408114b08460dd9",
            "1a1778affc494dc4b3ca7459d5877753",
            "574a0111cda64c519d67fd1b6e575569",
            "d424951cdb2f417d855427b0c8542bfc",
            "e81beb68a29949c7bf8c3a1b328d110b",
            "d24c30f7522142ea877b518d9860b08f",
            "c4e2e778639143edb60a770314d37cd7",
            "9ec602aa09da4d26808cdcc6eecc7737",
            "a97220cefc4048f7ae0f4733e4b35880",
            "1eb7b763c2bd49aaaa47649fd408c9ea",
            "737ed6c649ce4735a7206a3f82f9d107",
            "6d2de45bdb5644a68730fecbd6179a30",
            "36e84c7f19f54b86800f8d0e0d7d3392",
            "4bc68c48b12245f1ac6e64434bae4118",
            "4ce3e5f016364d579e63e159d8ddc361",
            "b90ee9f189e042eba11f28add5eb00e4",
            "f26d9da5ed76482ab9de97bdd77b2b53",
            "e06cbe706ccc4c0dbf05ff338e4d4c4e",
            "dd3df226c70542c9bf1dcd17da9a3344",
            "d90737347de443be97ff84adb1fe3808",
            "d7eea11881d04b7cbee919e5d8a5c2e5",
            "80724621a0954717bff3edacf30f460a",
            "8729e009a3374ccd8165e1b871f60fa7",
            "2754c6aefd234d6aa662bb78b3cdcdf6",
            "3fa19e8f350840ddabadfd51c803bd56",
            "b98e2a61109548c7a1a883153598ac74",
            "806f2d4233b04d9ab56a08fc2989a935",
            "d95424d4ef584d70a9b9ce2d535824c1",
            "5ff17b50a53341c89ec7c767747d166d",
            "797615293be546cc994c21a416235bff",
            "f6ebd5391a4545bd85046c43d1e6d52f",
            "89a1b778eabc42c98fe7b6872fe65360",
            "2f950f0f0d2b443cb351b8cafcb473a1",
            "ccac5d206b7d4089be0380cca21945e9",
            "5d674449474b463bbc7b559d5dca2006",
            "97a8f3e3267b418389b839ccc9f70f61",
            "25d418602c6145609715a0b56ae46cd3",
            "dd9039db94a64a18aa44514462bd79aa",
            "4c3aa1ab08cc46e38ac8e5dea5e4e987",
            "87fc04926b504a0aa6ea8ade2a18c51f",
            "67f0311b8a68486d87627d2e6ed4205a",
            "a5b8f12a3cac47da807e880cb0f5c7fa",
            "c6d82c5aac5846f99dd2eea564a3372a",
            "a4677e8a9cd245408a3b9ee4b8675782",
            "696302e916334d6a965af5fdca202a01",
            "3a074f16b74d4c139a56ddb5df9fcde9",
            "49b3720a4e764f64abdbbd56872ff858",
            "41f9f7ea50a24152b8b25526ba9fa027",
            "da666246b8ad42d891e25b18e3b05542",
            "401b86999f37496e897dc2bf904135bd",
            "c69e95573f004c0bbd4d8db05fe7ba86"
          ]
        },
        "collapsed": true,
        "id": "EAHznDBcfTmI",
        "outputId": "bdb90d61-a9cb-4ba3-8a38-c569fdad72bf",
        "scrolled": true
      },
      "outputs": [
        {
          "data": {
            "text/html": [
              "<style>\n",
              "    body {\n",
              "      font-size: 20px;\n",
              "    }\n",
              "  "
            ],
            "text/plain": [
              "<IPython.core.display.HTML object>"
            ]
          },
          "metadata": {},
          "output_type": "display_data"
        },
        {
          "name": "stdout",
          "output_type": "stream",
          "text": [
            "Training for 2 epochs\n"
          ]
        },
        {
          "data": {
            "application/vnd.jupyter.widget-view+json": {
              "model_id": "8d7bc4bb14b847acbe39883d9b3dcf1c",
              "version_major": 2,
              "version_minor": 0
            },
            "text/plain": [
              "  0%|          | 0/35 [00:00<?, ?it/s]"
            ]
          },
          "metadata": {},
          "output_type": "display_data"
        },
        {
          "name": "stdout",
          "output_type": "stream",
          "text": [
            "| Epoch: 01 | Train Loss: 0.552 | Train Acc: 71.96% | Val. Loss: 0.400 | Val. Acc: 82.99% |\n"
          ]
        },
        {
          "data": {
            "application/vnd.jupyter.widget-view+json": {
              "model_id": "cf9e1b0a039840fc9662f0a2833d700f",
              "version_major": 2,
              "version_minor": 0
            },
            "text/plain": [
              "  0%|          | 0/35 [00:00<?, ?it/s]"
            ]
          },
          "metadata": {},
          "output_type": "display_data"
        },
        {
          "name": "stdout",
          "output_type": "stream",
          "text": [
            "| Epoch: 02 | Train Loss: 0.330 | Train Acc: 86.96% | Val. Loss: 0.415 | Val. Acc: 84.61% |\n",
            "Test Loss: 0.374 | Test Acc: 84.72% |\n",
            "\n",
            "training complete!\n",
            "Training for 3 epochs\n"
          ]
        },
        {
          "data": {
            "application/vnd.jupyter.widget-view+json": {
              "model_id": "9d3e5874b3fd48338e1df5a56e71d3cc",
              "version_major": 2,
              "version_minor": 0
            },
            "text/plain": [
              "  0%|          | 0/35 [00:00<?, ?it/s]"
            ]
          },
          "metadata": {},
          "output_type": "display_data"
        },
        {
          "name": "stdout",
          "output_type": "stream",
          "text": [
            "| Epoch: 01 | Train Loss: 0.674 | Train Acc: 57.05% | Val. Loss: 0.525 | Val. Acc: 77.43% |\n"
          ]
        },
        {
          "data": {
            "application/vnd.jupyter.widget-view+json": {
              "model_id": "a9b5dd75da5048a9a3069cf7cd7c8940",
              "version_major": 2,
              "version_minor": 0
            },
            "text/plain": [
              "  0%|          | 0/35 [00:00<?, ?it/s]"
            ]
          },
          "metadata": {},
          "output_type": "display_data"
        },
        {
          "name": "stdout",
          "output_type": "stream",
          "text": [
            "| Epoch: 02 | Train Loss: 0.452 | Train Acc: 80.89% | Val. Loss: 0.364 | Val. Acc: 86.81% |\n"
          ]
        },
        {
          "data": {
            "application/vnd.jupyter.widget-view+json": {
              "model_id": "b75cfb12f5c8438aad97daf88a53c529",
              "version_major": 2,
              "version_minor": 0
            },
            "text/plain": [
              "  0%|          | 0/35 [00:00<?, ?it/s]"
            ]
          },
          "metadata": {},
          "output_type": "display_data"
        },
        {
          "name": "stdout",
          "output_type": "stream",
          "text": [
            "| Epoch: 03 | Train Loss: 0.297 | Train Acc: 88.84% | Val. Loss: 0.417 | Val. Acc: 82.99% |\n",
            "Test Loss: 0.471 | Test Acc: 83.59% |\n",
            "\n",
            "training complete!\n",
            "Training for 4 epochs\n"
          ]
        },
        {
          "data": {
            "application/vnd.jupyter.widget-view+json": {
              "model_id": "b46e703d79454c35ba5e27d8e6e82981",
              "version_major": 2,
              "version_minor": 0
            },
            "text/plain": [
              "  0%|          | 0/35 [00:00<?, ?it/s]"
            ]
          },
          "metadata": {},
          "output_type": "display_data"
        },
        {
          "name": "stdout",
          "output_type": "stream",
          "text": [
            "| Epoch: 01 | Train Loss: 0.666 | Train Acc: 57.23% | Val. Loss: 0.550 | Val. Acc: 75.93% |\n"
          ]
        },
        {
          "data": {
            "application/vnd.jupyter.widget-view+json": {
              "model_id": "187a3a6c57f44e96b7c8250ef70b5e02",
              "version_major": 2,
              "version_minor": 0
            },
            "text/plain": [
              "  0%|          | 0/35 [00:00<?, ?it/s]"
            ]
          },
          "metadata": {},
          "output_type": "display_data"
        },
        {
          "name": "stdout",
          "output_type": "stream",
          "text": [
            "| Epoch: 02 | Train Loss: 0.450 | Train Acc: 80.80% | Val. Loss: 0.428 | Val. Acc: 82.87% |\n"
          ]
        },
        {
          "data": {
            "application/vnd.jupyter.widget-view+json": {
              "model_id": "8738bcca315e48d8bd30202b81db9b60",
              "version_major": 2,
              "version_minor": 0
            },
            "text/plain": [
              "  0%|          | 0/35 [00:00<?, ?it/s]"
            ]
          },
          "metadata": {},
          "output_type": "display_data"
        },
        {
          "name": "stdout",
          "output_type": "stream",
          "text": [
            "| Epoch: 03 | Train Loss: 0.273 | Train Acc: 90.89% | Val. Loss: 0.368 | Val. Acc: 85.42% |\n"
          ]
        },
        {
          "data": {
            "application/vnd.jupyter.widget-view+json": {
              "model_id": "f693d615936643f392309280f22a305f",
              "version_major": 2,
              "version_minor": 0
            },
            "text/plain": [
              "  0%|          | 0/35 [00:00<?, ?it/s]"
            ]
          },
          "metadata": {},
          "output_type": "display_data"
        },
        {
          "name": "stdout",
          "output_type": "stream",
          "text": [
            "| Epoch: 04 | Train Loss: 0.143 | Train Acc: 95.54% | Val. Loss: 0.488 | Val. Acc: 83.10% |\n",
            "Test Loss: 0.469 | Test Acc: 85.50% |\n",
            "\n",
            "training complete!\n",
            "Training for 5 epochs\n"
          ]
        },
        {
          "data": {
            "application/vnd.jupyter.widget-view+json": {
              "model_id": "af0abd31780245a9818855a7ff325a82",
              "version_major": 2,
              "version_minor": 0
            },
            "text/plain": [
              "  0%|          | 0/35 [00:00<?, ?it/s]"
            ]
          },
          "metadata": {},
          "output_type": "display_data"
        },
        {
          "name": "stdout",
          "output_type": "stream",
          "text": [
            "| Epoch: 01 | Train Loss: 0.575 | Train Acc: 69.11% | Val. Loss: 0.445 | Val. Acc: 80.09% |\n"
          ]
        },
        {
          "data": {
            "application/vnd.jupyter.widget-view+json": {
              "model_id": "ef75ebd1924543cdb7aedd670d5b8941",
              "version_major": 2,
              "version_minor": 0
            },
            "text/plain": [
              "  0%|          | 0/35 [00:00<?, ?it/s]"
            ]
          },
          "metadata": {},
          "output_type": "display_data"
        },
        {
          "name": "stdout",
          "output_type": "stream",
          "text": [
            "| Epoch: 02 | Train Loss: 0.352 | Train Acc: 85.98% | Val. Loss: 0.478 | Val. Acc: 82.52% |\n"
          ]
        },
        {
          "data": {
            "application/vnd.jupyter.widget-view+json": {
              "model_id": "b45b5f188e2d4fada407492c7d4f8ac0",
              "version_major": 2,
              "version_minor": 0
            },
            "text/plain": [
              "  0%|          | 0/35 [00:00<?, ?it/s]"
            ]
          },
          "metadata": {},
          "output_type": "display_data"
        },
        {
          "name": "stdout",
          "output_type": "stream",
          "text": [
            "| Epoch: 03 | Train Loss: 0.183 | Train Acc: 93.39% | Val. Loss: 0.464 | Val. Acc: 82.99% |\n"
          ]
        },
        {
          "data": {
            "application/vnd.jupyter.widget-view+json": {
              "model_id": "6bac3cc9e8184de09c1816dc66bfce3e",
              "version_major": 2,
              "version_minor": 0
            },
            "text/plain": [
              "  0%|          | 0/35 [00:00<?, ?it/s]"
            ]
          },
          "metadata": {},
          "output_type": "display_data"
        },
        {
          "name": "stdout",
          "output_type": "stream",
          "text": [
            "| Epoch: 04 | Train Loss: 0.058 | Train Acc: 98.21% | Val. Loss: 0.639 | Val. Acc: 83.80% |\n"
          ]
        },
        {
          "data": {
            "application/vnd.jupyter.widget-view+json": {
              "model_id": "17670b38cb854975982ae90ca868d300",
              "version_major": 2,
              "version_minor": 0
            },
            "text/plain": [
              "  0%|          | 0/35 [00:00<?, ?it/s]"
            ]
          },
          "metadata": {},
          "output_type": "display_data"
        },
        {
          "name": "stdout",
          "output_type": "stream",
          "text": [
            "| Epoch: 05 | Train Loss: 0.016 | Train Acc: 99.55% | Val. Loss: 0.760 | Val. Acc: 82.75% |\n",
            "Test Loss: 0.812 | Test Acc: 83.25% |\n",
            "\n",
            "training complete!\n",
            "Training for 6 epochs\n"
          ]
        },
        {
          "data": {
            "application/vnd.jupyter.widget-view+json": {
              "model_id": "8326ed033b7c48b99408114b08460dd9",
              "version_major": 2,
              "version_minor": 0
            },
            "text/plain": [
              "  0%|          | 0/35 [00:00<?, ?it/s]"
            ]
          },
          "metadata": {},
          "output_type": "display_data"
        },
        {
          "name": "stdout",
          "output_type": "stream",
          "text": [
            "| Epoch: 01 | Train Loss: 0.598 | Train Acc: 68.84% | Val. Loss: 0.396 | Val. Acc: 84.84% |\n"
          ]
        },
        {
          "data": {
            "application/vnd.jupyter.widget-view+json": {
              "model_id": "1a1778affc494dc4b3ca7459d5877753",
              "version_major": 2,
              "version_minor": 0
            },
            "text/plain": [
              "  0%|          | 0/35 [00:00<?, ?it/s]"
            ]
          },
          "metadata": {},
          "output_type": "display_data"
        },
        {
          "name": "stdout",
          "output_type": "stream",
          "text": [
            "| Epoch: 02 | Train Loss: 0.370 | Train Acc: 84.91% | Val. Loss: 0.372 | Val. Acc: 86.81% |\n"
          ]
        },
        {
          "data": {
            "application/vnd.jupyter.widget-view+json": {
              "model_id": "574a0111cda64c519d67fd1b6e575569",
              "version_major": 2,
              "version_minor": 0
            },
            "text/plain": [
              "  0%|          | 0/35 [00:00<?, ?it/s]"
            ]
          },
          "metadata": {},
          "output_type": "display_data"
        },
        {
          "name": "stdout",
          "output_type": "stream",
          "text": [
            "| Epoch: 03 | Train Loss: 0.209 | Train Acc: 92.86% | Val. Loss: 0.536 | Val. Acc: 83.10% |\n"
          ]
        },
        {
          "data": {
            "application/vnd.jupyter.widget-view+json": {
              "model_id": "d424951cdb2f417d855427b0c8542bfc",
              "version_major": 2,
              "version_minor": 0
            },
            "text/plain": [
              "  0%|          | 0/35 [00:00<?, ?it/s]"
            ]
          },
          "metadata": {},
          "output_type": "display_data"
        },
        {
          "name": "stdout",
          "output_type": "stream",
          "text": [
            "| Epoch: 04 | Train Loss: 0.137 | Train Acc: 95.27% | Val. Loss: 0.533 | Val. Acc: 83.68% |\n"
          ]
        },
        {
          "data": {
            "application/vnd.jupyter.widget-view+json": {
              "model_id": "e81beb68a29949c7bf8c3a1b328d110b",
              "version_major": 2,
              "version_minor": 0
            },
            "text/plain": [
              "  0%|          | 0/35 [00:00<?, ?it/s]"
            ]
          },
          "metadata": {},
          "output_type": "display_data"
        },
        {
          "name": "stdout",
          "output_type": "stream",
          "text": [
            "| Epoch: 05 | Train Loss: 0.083 | Train Acc: 97.32% | Val. Loss: 0.692 | Val. Acc: 81.83% |\n"
          ]
        },
        {
          "data": {
            "application/vnd.jupyter.widget-view+json": {
              "model_id": "d24c30f7522142ea877b518d9860b08f",
              "version_major": 2,
              "version_minor": 0
            },
            "text/plain": [
              "  0%|          | 0/35 [00:00<?, ?it/s]"
            ]
          },
          "metadata": {},
          "output_type": "display_data"
        },
        {
          "name": "stdout",
          "output_type": "stream",
          "text": [
            "| Epoch: 06 | Train Loss: 0.016 | Train Acc: 99.64% | Val. Loss: 0.793 | Val. Acc: 82.41% |\n",
            "Test Loss: 0.752 | Test Acc: 84.29% |\n",
            "\n",
            "training complete!\n",
            "Training for 7 epochs\n"
          ]
        },
        {
          "data": {
            "application/vnd.jupyter.widget-view+json": {
              "model_id": "c4e2e778639143edb60a770314d37cd7",
              "version_major": 2,
              "version_minor": 0
            },
            "text/plain": [
              "  0%|          | 0/35 [00:00<?, ?it/s]"
            ]
          },
          "metadata": {},
          "output_type": "display_data"
        },
        {
          "name": "stdout",
          "output_type": "stream",
          "text": [
            "| Epoch: 01 | Train Loss: 0.613 | Train Acc: 65.36% | Val. Loss: 0.368 | Val. Acc: 84.84% |\n"
          ]
        },
        {
          "data": {
            "application/vnd.jupyter.widget-view+json": {
              "model_id": "9ec602aa09da4d26808cdcc6eecc7737",
              "version_major": 2,
              "version_minor": 0
            },
            "text/plain": [
              "  0%|          | 0/35 [00:00<?, ?it/s]"
            ]
          },
          "metadata": {},
          "output_type": "display_data"
        },
        {
          "name": "stdout",
          "output_type": "stream",
          "text": [
            "| Epoch: 02 | Train Loss: 0.351 | Train Acc: 85.27% | Val. Loss: 0.510 | Val. Acc: 83.45% |\n"
          ]
        },
        {
          "data": {
            "application/vnd.jupyter.widget-view+json": {
              "model_id": "a97220cefc4048f7ae0f4733e4b35880",
              "version_major": 2,
              "version_minor": 0
            },
            "text/plain": [
              "  0%|          | 0/35 [00:00<?, ?it/s]"
            ]
          },
          "metadata": {},
          "output_type": "display_data"
        },
        {
          "name": "stdout",
          "output_type": "stream",
          "text": [
            "| Epoch: 03 | Train Loss: 0.138 | Train Acc: 95.09% | Val. Loss: 0.560 | Val. Acc: 83.68% |\n"
          ]
        },
        {
          "data": {
            "application/vnd.jupyter.widget-view+json": {
              "model_id": "1eb7b763c2bd49aaaa47649fd408c9ea",
              "version_major": 2,
              "version_minor": 0
            },
            "text/plain": [
              "  0%|          | 0/35 [00:00<?, ?it/s]"
            ]
          },
          "metadata": {},
          "output_type": "display_data"
        },
        {
          "name": "stdout",
          "output_type": "stream",
          "text": [
            "| Epoch: 04 | Train Loss: 0.085 | Train Acc: 97.23% | Val. Loss: 0.782 | Val. Acc: 78.82% |\n"
          ]
        },
        {
          "data": {
            "application/vnd.jupyter.widget-view+json": {
              "model_id": "737ed6c649ce4735a7206a3f82f9d107",
              "version_major": 2,
              "version_minor": 0
            },
            "text/plain": [
              "  0%|          | 0/35 [00:00<?, ?it/s]"
            ]
          },
          "metadata": {},
          "output_type": "display_data"
        },
        {
          "name": "stdout",
          "output_type": "stream",
          "text": [
            "| Epoch: 05 | Train Loss: 0.050 | Train Acc: 98.75% | Val. Loss: 0.706 | Val. Acc: 83.22% |\n"
          ]
        },
        {
          "data": {
            "application/vnd.jupyter.widget-view+json": {
              "model_id": "6d2de45bdb5644a68730fecbd6179a30",
              "version_major": 2,
              "version_minor": 0
            },
            "text/plain": [
              "  0%|          | 0/35 [00:00<?, ?it/s]"
            ]
          },
          "metadata": {},
          "output_type": "display_data"
        },
        {
          "name": "stdout",
          "output_type": "stream",
          "text": [
            "| Epoch: 06 | Train Loss: 0.032 | Train Acc: 99.29% | Val. Loss: 0.637 | Val. Acc: 85.07% |\n"
          ]
        },
        {
          "data": {
            "application/vnd.jupyter.widget-view+json": {
              "model_id": "36e84c7f19f54b86800f8d0e0d7d3392",
              "version_major": 2,
              "version_minor": 0
            },
            "text/plain": [
              "  0%|          | 0/35 [00:00<?, ?it/s]"
            ]
          },
          "metadata": {},
          "output_type": "display_data"
        },
        {
          "name": "stdout",
          "output_type": "stream",
          "text": [
            "| Epoch: 07 | Train Loss: 0.027 | Train Acc: 99.46% | Val. Loss: 0.650 | Val. Acc: 84.38% |\n",
            "Test Loss: 0.646 | Test Acc: 86.72% |\n",
            "\n",
            "training complete!\n",
            "Training for 8 epochs\n"
          ]
        },
        {
          "data": {
            "application/vnd.jupyter.widget-view+json": {
              "model_id": "4bc68c48b12245f1ac6e64434bae4118",
              "version_major": 2,
              "version_minor": 0
            },
            "text/plain": [
              "  0%|          | 0/35 [00:00<?, ?it/s]"
            ]
          },
          "metadata": {},
          "output_type": "display_data"
        },
        {
          "name": "stdout",
          "output_type": "stream",
          "text": [
            "| Epoch: 01 | Train Loss: 0.616 | Train Acc: 63.75% | Val. Loss: 0.399 | Val. Acc: 83.80% |\n"
          ]
        },
        {
          "data": {
            "application/vnd.jupyter.widget-view+json": {
              "model_id": "4ce3e5f016364d579e63e159d8ddc361",
              "version_major": 2,
              "version_minor": 0
            },
            "text/plain": [
              "  0%|          | 0/35 [00:00<?, ?it/s]"
            ]
          },
          "metadata": {},
          "output_type": "display_data"
        },
        {
          "name": "stdout",
          "output_type": "stream",
          "text": [
            "| Epoch: 02 | Train Loss: 0.384 | Train Acc: 84.46% | Val. Loss: 0.421 | Val. Acc: 85.88% |\n"
          ]
        },
        {
          "data": {
            "application/vnd.jupyter.widget-view+json": {
              "model_id": "b90ee9f189e042eba11f28add5eb00e4",
              "version_major": 2,
              "version_minor": 0
            },
            "text/plain": [
              "  0%|          | 0/35 [00:00<?, ?it/s]"
            ]
          },
          "metadata": {},
          "output_type": "display_data"
        },
        {
          "name": "stdout",
          "output_type": "stream",
          "text": [
            "| Epoch: 03 | Train Loss: 0.231 | Train Acc: 91.52% | Val. Loss: 0.499 | Val. Acc: 83.56% |\n"
          ]
        },
        {
          "data": {
            "application/vnd.jupyter.widget-view+json": {
              "model_id": "f26d9da5ed76482ab9de97bdd77b2b53",
              "version_major": 2,
              "version_minor": 0
            },
            "text/plain": [
              "  0%|          | 0/35 [00:00<?, ?it/s]"
            ]
          },
          "metadata": {},
          "output_type": "display_data"
        },
        {
          "name": "stdout",
          "output_type": "stream",
          "text": [
            "| Epoch: 04 | Train Loss: 0.124 | Train Acc: 96.07% | Val. Loss: 0.542 | Val. Acc: 84.72% |\n"
          ]
        },
        {
          "data": {
            "application/vnd.jupyter.widget-view+json": {
              "model_id": "e06cbe706ccc4c0dbf05ff338e4d4c4e",
              "version_major": 2,
              "version_minor": 0
            },
            "text/plain": [
              "  0%|          | 0/35 [00:00<?, ?it/s]"
            ]
          },
          "metadata": {},
          "output_type": "display_data"
        },
        {
          "name": "stdout",
          "output_type": "stream",
          "text": [
            "| Epoch: 05 | Train Loss: 0.065 | Train Acc: 98.57% | Val. Loss: 0.709 | Val. Acc: 84.03% |\n"
          ]
        },
        {
          "data": {
            "application/vnd.jupyter.widget-view+json": {
              "model_id": "dd3df226c70542c9bf1dcd17da9a3344",
              "version_major": 2,
              "version_minor": 0
            },
            "text/plain": [
              "  0%|          | 0/35 [00:00<?, ?it/s]"
            ]
          },
          "metadata": {},
          "output_type": "display_data"
        },
        {
          "name": "stdout",
          "output_type": "stream",
          "text": [
            "| Epoch: 06 | Train Loss: 0.055 | Train Acc: 98.84% | Val. Loss: 0.634 | Val. Acc: 85.42% |\n"
          ]
        },
        {
          "data": {
            "application/vnd.jupyter.widget-view+json": {
              "model_id": "d90737347de443be97ff84adb1fe3808",
              "version_major": 2,
              "version_minor": 0
            },
            "text/plain": [
              "  0%|          | 0/35 [00:00<?, ?it/s]"
            ]
          },
          "metadata": {},
          "output_type": "display_data"
        },
        {
          "name": "stdout",
          "output_type": "stream",
          "text": [
            "| Epoch: 07 | Train Loss: 0.052 | Train Acc: 98.66% | Val. Loss: 0.615 | Val. Acc: 84.72% |\n"
          ]
        },
        {
          "data": {
            "application/vnd.jupyter.widget-view+json": {
              "model_id": "d7eea11881d04b7cbee919e5d8a5c2e5",
              "version_major": 2,
              "version_minor": 0
            },
            "text/plain": [
              "  0%|          | 0/35 [00:00<?, ?it/s]"
            ]
          },
          "metadata": {},
          "output_type": "display_data"
        },
        {
          "name": "stdout",
          "output_type": "stream",
          "text": [
            "| Epoch: 08 | Train Loss: 0.028 | Train Acc: 99.38% | Val. Loss: 0.748 | Val. Acc: 84.38% |\n",
            "Test Loss: 0.705 | Test Acc: 84.55% |\n",
            "\n",
            "training complete!\n",
            "Training for 9 epochs\n"
          ]
        },
        {
          "data": {
            "application/vnd.jupyter.widget-view+json": {
              "model_id": "80724621a0954717bff3edacf30f460a",
              "version_major": 2,
              "version_minor": 0
            },
            "text/plain": [
              "  0%|          | 0/35 [00:00<?, ?it/s]"
            ]
          },
          "metadata": {},
          "output_type": "display_data"
        },
        {
          "name": "stdout",
          "output_type": "stream",
          "text": [
            "| Epoch: 01 | Train Loss: 0.560 | Train Acc: 68.48% | Val. Loss: 0.391 | Val. Acc: 82.52% |\n"
          ]
        },
        {
          "data": {
            "application/vnd.jupyter.widget-view+json": {
              "model_id": "8729e009a3374ccd8165e1b871f60fa7",
              "version_major": 2,
              "version_minor": 0
            },
            "text/plain": [
              "  0%|          | 0/35 [00:00<?, ?it/s]"
            ]
          },
          "metadata": {},
          "output_type": "display_data"
        },
        {
          "name": "stdout",
          "output_type": "stream",
          "text": [
            "| Epoch: 02 | Train Loss: 0.286 | Train Acc: 88.21% | Val. Loss: 0.451 | Val. Acc: 86.81% |\n"
          ]
        },
        {
          "data": {
            "application/vnd.jupyter.widget-view+json": {
              "model_id": "2754c6aefd234d6aa662bb78b3cdcdf6",
              "version_major": 2,
              "version_minor": 0
            },
            "text/plain": [
              "  0%|          | 0/35 [00:00<?, ?it/s]"
            ]
          },
          "metadata": {},
          "output_type": "display_data"
        },
        {
          "name": "stdout",
          "output_type": "stream",
          "text": [
            "| Epoch: 03 | Train Loss: 0.170 | Train Acc: 94.55% | Val. Loss: 0.518 | Val. Acc: 82.64% |\n"
          ]
        },
        {
          "data": {
            "application/vnd.jupyter.widget-view+json": {
              "model_id": "3fa19e8f350840ddabadfd51c803bd56",
              "version_major": 2,
              "version_minor": 0
            },
            "text/plain": [
              "  0%|          | 0/35 [00:00<?, ?it/s]"
            ]
          },
          "metadata": {},
          "output_type": "display_data"
        },
        {
          "name": "stdout",
          "output_type": "stream",
          "text": [
            "| Epoch: 04 | Train Loss: 0.065 | Train Acc: 98.21% | Val. Loss: 0.721 | Val. Acc: 80.09% |\n"
          ]
        },
        {
          "data": {
            "application/vnd.jupyter.widget-view+json": {
              "model_id": "b98e2a61109548c7a1a883153598ac74",
              "version_major": 2,
              "version_minor": 0
            },
            "text/plain": [
              "  0%|          | 0/35 [00:00<?, ?it/s]"
            ]
          },
          "metadata": {},
          "output_type": "display_data"
        },
        {
          "name": "stdout",
          "output_type": "stream",
          "text": [
            "| Epoch: 05 | Train Loss: 0.035 | Train Acc: 99.02% | Val. Loss: 0.715 | Val. Acc: 80.21% |\n"
          ]
        },
        {
          "data": {
            "application/vnd.jupyter.widget-view+json": {
              "model_id": "806f2d4233b04d9ab56a08fc2989a935",
              "version_major": 2,
              "version_minor": 0
            },
            "text/plain": [
              "  0%|          | 0/35 [00:00<?, ?it/s]"
            ]
          },
          "metadata": {},
          "output_type": "display_data"
        },
        {
          "name": "stdout",
          "output_type": "stream",
          "text": [
            "| Epoch: 06 | Train Loss: 0.012 | Train Acc: 99.82% | Val. Loss: 0.812 | Val. Acc: 80.90% |\n"
          ]
        },
        {
          "data": {
            "application/vnd.jupyter.widget-view+json": {
              "model_id": "d95424d4ef584d70a9b9ce2d535824c1",
              "version_major": 2,
              "version_minor": 0
            },
            "text/plain": [
              "  0%|          | 0/35 [00:00<?, ?it/s]"
            ]
          },
          "metadata": {},
          "output_type": "display_data"
        },
        {
          "name": "stdout",
          "output_type": "stream",
          "text": [
            "| Epoch: 07 | Train Loss: 0.004 | Train Acc: 99.91% | Val. Loss: 0.889 | Val. Acc: 80.90% |\n"
          ]
        },
        {
          "data": {
            "application/vnd.jupyter.widget-view+json": {
              "model_id": "5ff17b50a53341c89ec7c767747d166d",
              "version_major": 2,
              "version_minor": 0
            },
            "text/plain": [
              "  0%|          | 0/35 [00:00<?, ?it/s]"
            ]
          },
          "metadata": {},
          "output_type": "display_data"
        },
        {
          "name": "stdout",
          "output_type": "stream",
          "text": [
            "| Epoch: 08 | Train Loss: 0.001 | Train Acc: 100.00% | Val. Loss: 0.966 | Val. Acc: 81.48% |\n"
          ]
        },
        {
          "data": {
            "application/vnd.jupyter.widget-view+json": {
              "model_id": "797615293be546cc994c21a416235bff",
              "version_major": 2,
              "version_minor": 0
            },
            "text/plain": [
              "  0%|          | 0/35 [00:00<?, ?it/s]"
            ]
          },
          "metadata": {},
          "output_type": "display_data"
        },
        {
          "name": "stdout",
          "output_type": "stream",
          "text": [
            "| Epoch: 09 | Train Loss: 0.001 | Train Acc: 100.00% | Val. Loss: 1.008 | Val. Acc: 80.79% |\n",
            "Test Loss: 0.844 | Test Acc: 85.68% |\n",
            "\n",
            "training complete!\n",
            "Training for 10 epochs\n"
          ]
        },
        {
          "data": {
            "application/vnd.jupyter.widget-view+json": {
              "model_id": "f6ebd5391a4545bd85046c43d1e6d52f",
              "version_major": 2,
              "version_minor": 0
            },
            "text/plain": [
              "  0%|          | 0/35 [00:00<?, ?it/s]"
            ]
          },
          "metadata": {},
          "output_type": "display_data"
        },
        {
          "name": "stdout",
          "output_type": "stream",
          "text": [
            "| Epoch: 01 | Train Loss: 0.578 | Train Acc: 67.86% | Val. Loss: 0.366 | Val. Acc: 84.03% |\n"
          ]
        },
        {
          "data": {
            "application/vnd.jupyter.widget-view+json": {
              "model_id": "89a1b778eabc42c98fe7b6872fe65360",
              "version_major": 2,
              "version_minor": 0
            },
            "text/plain": [
              "  0%|          | 0/35 [00:00<?, ?it/s]"
            ]
          },
          "metadata": {},
          "output_type": "display_data"
        },
        {
          "name": "stdout",
          "output_type": "stream",
          "text": [
            "| Epoch: 02 | Train Loss: 0.299 | Train Acc: 87.68% | Val. Loss: 0.416 | Val. Acc: 86.00% |\n"
          ]
        },
        {
          "data": {
            "application/vnd.jupyter.widget-view+json": {
              "model_id": "2f950f0f0d2b443cb351b8cafcb473a1",
              "version_major": 2,
              "version_minor": 0
            },
            "text/plain": [
              "  0%|          | 0/35 [00:00<?, ?it/s]"
            ]
          },
          "metadata": {},
          "output_type": "display_data"
        },
        {
          "name": "stdout",
          "output_type": "stream",
          "text": [
            "| Epoch: 03 | Train Loss: 0.106 | Train Acc: 96.43% | Val. Loss: 0.874 | Val. Acc: 78.12% |\n"
          ]
        },
        {
          "data": {
            "application/vnd.jupyter.widget-view+json": {
              "model_id": "ccac5d206b7d4089be0380cca21945e9",
              "version_major": 2,
              "version_minor": 0
            },
            "text/plain": [
              "  0%|          | 0/35 [00:00<?, ?it/s]"
            ]
          },
          "metadata": {},
          "output_type": "display_data"
        },
        {
          "name": "stdout",
          "output_type": "stream",
          "text": [
            "| Epoch: 04 | Train Loss: 0.093 | Train Acc: 96.61% | Val. Loss: 0.527 | Val. Acc: 82.06% |\n"
          ]
        },
        {
          "data": {
            "application/vnd.jupyter.widget-view+json": {
              "model_id": "5d674449474b463bbc7b559d5dca2006",
              "version_major": 2,
              "version_minor": 0
            },
            "text/plain": [
              "  0%|          | 0/35 [00:00<?, ?it/s]"
            ]
          },
          "metadata": {},
          "output_type": "display_data"
        },
        {
          "name": "stdout",
          "output_type": "stream",
          "text": [
            "| Epoch: 05 | Train Loss: 0.037 | Train Acc: 98.93% | Val. Loss: 0.685 | Val. Acc: 82.99% |\n"
          ]
        },
        {
          "data": {
            "application/vnd.jupyter.widget-view+json": {
              "model_id": "97a8f3e3267b418389b839ccc9f70f61",
              "version_major": 2,
              "version_minor": 0
            },
            "text/plain": [
              "  0%|          | 0/35 [00:00<?, ?it/s]"
            ]
          },
          "metadata": {},
          "output_type": "display_data"
        },
        {
          "name": "stdout",
          "output_type": "stream",
          "text": [
            "| Epoch: 06 | Train Loss: 0.018 | Train Acc: 99.38% | Val. Loss: 0.739 | Val. Acc: 81.13% |\n"
          ]
        },
        {
          "data": {
            "application/vnd.jupyter.widget-view+json": {
              "model_id": "25d418602c6145609715a0b56ae46cd3",
              "version_major": 2,
              "version_minor": 0
            },
            "text/plain": [
              "  0%|          | 0/35 [00:00<?, ?it/s]"
            ]
          },
          "metadata": {},
          "output_type": "display_data"
        },
        {
          "name": "stdout",
          "output_type": "stream",
          "text": [
            "| Epoch: 07 | Train Loss: 0.011 | Train Acc: 99.73% | Val. Loss: 0.816 | Val. Acc: 82.75% |\n"
          ]
        },
        {
          "data": {
            "application/vnd.jupyter.widget-view+json": {
              "model_id": "dd9039db94a64a18aa44514462bd79aa",
              "version_major": 2,
              "version_minor": 0
            },
            "text/plain": [
              "  0%|          | 0/35 [00:00<?, ?it/s]"
            ]
          },
          "metadata": {},
          "output_type": "display_data"
        },
        {
          "name": "stdout",
          "output_type": "stream",
          "text": [
            "| Epoch: 08 | Train Loss: 0.001 | Train Acc: 100.00% | Val. Loss: 0.837 | Val. Acc: 84.14% |\n"
          ]
        },
        {
          "data": {
            "application/vnd.jupyter.widget-view+json": {
              "model_id": "4c3aa1ab08cc46e38ac8e5dea5e4e987",
              "version_major": 2,
              "version_minor": 0
            },
            "text/plain": [
              "  0%|          | 0/35 [00:00<?, ?it/s]"
            ]
          },
          "metadata": {},
          "output_type": "display_data"
        },
        {
          "name": "stdout",
          "output_type": "stream",
          "text": [
            "| Epoch: 09 | Train Loss: 0.001 | Train Acc: 99.91% | Val. Loss: 0.895 | Val. Acc: 83.10% |\n"
          ]
        },
        {
          "data": {
            "application/vnd.jupyter.widget-view+json": {
              "model_id": "87fc04926b504a0aa6ea8ade2a18c51f",
              "version_major": 2,
              "version_minor": 0
            },
            "text/plain": [
              "  0%|          | 0/35 [00:00<?, ?it/s]"
            ]
          },
          "metadata": {},
          "output_type": "display_data"
        },
        {
          "name": "stdout",
          "output_type": "stream",
          "text": [
            "| Epoch: 10 | Train Loss: 0.001 | Train Acc: 100.00% | Val. Loss: 0.927 | Val. Acc: 83.10% |\n",
            "Test Loss: 0.849 | Test Acc: 84.46% |\n",
            "\n",
            "training complete!\n",
            "Training for 11 epochs\n"
          ]
        },
        {
          "data": {
            "application/vnd.jupyter.widget-view+json": {
              "model_id": "67f0311b8a68486d87627d2e6ed4205a",
              "version_major": 2,
              "version_minor": 0
            },
            "text/plain": [
              "  0%|          | 0/35 [00:00<?, ?it/s]"
            ]
          },
          "metadata": {},
          "output_type": "display_data"
        },
        {
          "name": "stdout",
          "output_type": "stream",
          "text": [
            "| Epoch: 01 | Train Loss: 0.705 | Train Acc: 50.45% | Val. Loss: 0.667 | Val. Acc: 52.78% |\n"
          ]
        },
        {
          "data": {
            "application/vnd.jupyter.widget-view+json": {
              "model_id": "a5b8f12a3cac47da807e880cb0f5c7fa",
              "version_major": 2,
              "version_minor": 0
            },
            "text/plain": [
              "  0%|          | 0/35 [00:00<?, ?it/s]"
            ]
          },
          "metadata": {},
          "output_type": "display_data"
        },
        {
          "name": "stdout",
          "output_type": "stream",
          "text": [
            "| Epoch: 02 | Train Loss: 0.508 | Train Acc: 75.18% | Val. Loss: 0.427 | Val. Acc: 85.19% |\n"
          ]
        },
        {
          "data": {
            "application/vnd.jupyter.widget-view+json": {
              "model_id": "c6d82c5aac5846f99dd2eea564a3372a",
              "version_major": 2,
              "version_minor": 0
            },
            "text/plain": [
              "  0%|          | 0/35 [00:00<?, ?it/s]"
            ]
          },
          "metadata": {},
          "output_type": "display_data"
        },
        {
          "name": "stdout",
          "output_type": "stream",
          "text": [
            "| Epoch: 03 | Train Loss: 0.262 | Train Acc: 90.45% | Val. Loss: 0.487 | Val. Acc: 83.10% |\n"
          ]
        },
        {
          "data": {
            "application/vnd.jupyter.widget-view+json": {
              "model_id": "a4677e8a9cd245408a3b9ee4b8675782",
              "version_major": 2,
              "version_minor": 0
            },
            "text/plain": [
              "  0%|          | 0/35 [00:00<?, ?it/s]"
            ]
          },
          "metadata": {},
          "output_type": "display_data"
        },
        {
          "name": "stdout",
          "output_type": "stream",
          "text": [
            "| Epoch: 04 | Train Loss: 0.127 | Train Acc: 95.89% | Val. Loss: 0.574 | Val. Acc: 80.67% |\n"
          ]
        },
        {
          "data": {
            "application/vnd.jupyter.widget-view+json": {
              "model_id": "696302e916334d6a965af5fdca202a01",
              "version_major": 2,
              "version_minor": 0
            },
            "text/plain": [
              "  0%|          | 0/35 [00:00<?, ?it/s]"
            ]
          },
          "metadata": {},
          "output_type": "display_data"
        },
        {
          "name": "stdout",
          "output_type": "stream",
          "text": [
            "| Epoch: 05 | Train Loss: 0.045 | Train Acc: 99.02% | Val. Loss: 0.927 | Val. Acc: 80.09% |\n"
          ]
        },
        {
          "data": {
            "application/vnd.jupyter.widget-view+json": {
              "model_id": "3a074f16b74d4c139a56ddb5df9fcde9",
              "version_major": 2,
              "version_minor": 0
            },
            "text/plain": [
              "  0%|          | 0/35 [00:00<?, ?it/s]"
            ]
          },
          "metadata": {},
          "output_type": "display_data"
        },
        {
          "name": "stdout",
          "output_type": "stream",
          "text": [
            "| Epoch: 06 | Train Loss: 0.032 | Train Acc: 99.29% | Val. Loss: 0.854 | Val. Acc: 80.90% |\n"
          ]
        },
        {
          "data": {
            "application/vnd.jupyter.widget-view+json": {
              "model_id": "49b3720a4e764f64abdbbd56872ff858",
              "version_major": 2,
              "version_minor": 0
            },
            "text/plain": [
              "  0%|          | 0/35 [00:00<?, ?it/s]"
            ]
          },
          "metadata": {},
          "output_type": "display_data"
        },
        {
          "name": "stdout",
          "output_type": "stream",
          "text": [
            "| Epoch: 07 | Train Loss: 0.024 | Train Acc: 99.46% | Val. Loss: 0.893 | Val. Acc: 81.37% |\n"
          ]
        },
        {
          "data": {
            "application/vnd.jupyter.widget-view+json": {
              "model_id": "41f9f7ea50a24152b8b25526ba9fa027",
              "version_major": 2,
              "version_minor": 0
            },
            "text/plain": [
              "  0%|          | 0/35 [00:00<?, ?it/s]"
            ]
          },
          "metadata": {},
          "output_type": "display_data"
        },
        {
          "name": "stdout",
          "output_type": "stream",
          "text": [
            "| Epoch: 08 | Train Loss: 0.045 | Train Acc: 98.75% | Val. Loss: 0.829 | Val. Acc: 78.59% |\n"
          ]
        },
        {
          "data": {
            "application/vnd.jupyter.widget-view+json": {
              "model_id": "da666246b8ad42d891e25b18e3b05542",
              "version_major": 2,
              "version_minor": 0
            },
            "text/plain": [
              "  0%|          | 0/35 [00:00<?, ?it/s]"
            ]
          },
          "metadata": {},
          "output_type": "display_data"
        },
        {
          "name": "stdout",
          "output_type": "stream",
          "text": [
            "| Epoch: 09 | Train Loss: 0.031 | Train Acc: 99.02% | Val. Loss: 0.963 | Val. Acc: 78.94% |\n"
          ]
        },
        {
          "data": {
            "application/vnd.jupyter.widget-view+json": {
              "model_id": "401b86999f37496e897dc2bf904135bd",
              "version_major": 2,
              "version_minor": 0
            },
            "text/plain": [
              "  0%|          | 0/35 [00:00<?, ?it/s]"
            ]
          },
          "metadata": {},
          "output_type": "display_data"
        },
        {
          "name": "stdout",
          "output_type": "stream",
          "text": [
            "| Epoch: 10 | Train Loss: 0.018 | Train Acc: 99.46% | Val. Loss: 0.905 | Val. Acc: 80.21% |\n"
          ]
        },
        {
          "data": {
            "application/vnd.jupyter.widget-view+json": {
              "model_id": "c69e95573f004c0bbd4d8db05fe7ba86",
              "version_major": 2,
              "version_minor": 0
            },
            "text/plain": [
              "  0%|          | 0/35 [00:00<?, ?it/s]"
            ]
          },
          "metadata": {},
          "output_type": "display_data"
        },
        {
          "name": "stdout",
          "output_type": "stream",
          "text": [
            "| Epoch: 11 | Train Loss: 0.012 | Train Acc: 99.20% | Val. Loss: 1.019 | Val. Acc: 81.60% |\n",
            "Test Loss: 0.910 | Test Acc: 82.55% |\n",
            "\n",
            "training complete!\n"
          ]
        }
      ],
      "source": [
        "training_epochs = range(2,12)\n",
        "learning_curve = {}\n",
        "\n",
        "for i, epoch in enumerate(training_epochs,1):\n",
        "    print(f'Training for {epoch} epochs')\n",
        "    # Initialize the model\n",
        "    bert_model = BertModel.from_pretrained('bert-base-uncased', output_hidden_states = True).to(device)\n",
        "    model = CyberbullyingDetecter(bert_model, Num_classes).to(device)\n",
        "    # Train the model\n",
        "    learning_curve[i] = train_model(model, train_data_loader, val_data_loader, epoch, 2e-5, verbose=True)\n",
        "    print('training complete!')\n"
      ]
    },
    {
      "cell_type": "code",
      "execution_count": null,
      "metadata": {
        "collapsed": true,
        "id": "5lMHZdi4rb10",
        "outputId": "0e829ffc-19c6-4e88-90cd-8225b8a36905"
      },
      "outputs": [
        {
          "data": {
            "text/html": [
              "<style>\n",
              "    body {\n",
              "      font-size: 20px;\n",
              "    }\n",
              "  "
            ],
            "text/plain": [
              "<IPython.core.display.HTML object>"
            ]
          },
          "metadata": {},
          "output_type": "display_data"
        },
        {
          "data": {
            "image/png": "[encoded data removed]",
            "text/plain": [
              "<Figure size 640x480 with 1 Axes>"
            ]
          },
          "metadata": {},
          "output_type": "display_data"
        },
        {
          "data": {
            "image/png": "[encoded data removed]",
            "text/plain": [
              "<Figure size 640x480 with 1 Axes>"
            ]
          },
          "metadata": {},
          "output_type": "display_data"
        },
        {
          "data": {
            "image/png": "[encoded data removed]",
            "text/plain": [
              "<Figure size 640x480 with 1 Axes>"
            ]
          },
          "metadata": {},
          "output_type": "display_data"
        },
        {
          "data": {
            "image/png": "[encoded data removed]",
            "text/plain": [
              "<Figure size 640x480 with 1 Axes>"
            ]
          },
          "metadata": {},
          "output_type": "display_data"
        },
        {
          "data": {
            "image/png": "[encoded data removed]",
            "text/plain": [
              "<Figure size 640x480 with 1 Axes>"
            ]
          },
          "metadata": {},
          "output_type": "display_data"
        },
        {
          "data": {
            "image/png": "[encoded data removed]",
            "text/plain": [
              "<Figure size 640x480 with 1 Axes>"
            ]
          },
          "metadata": {},
          "output_type": "display_data"
        },
        {
          "data": {
            "image/png": "[encoded data removed]",
            "text/plain": [
              "<Figure size 640x480 with 1 Axes>"
            ]
          },
          "metadata": {},
          "output_type": "display_data"
        },
        {
          "data": {
            "image/png": "[encoded data removed]",
            "text/plain": [
              "<Figure size 640x480 with 1 Axes>"
            ]
          },
          "metadata": {},
          "output_type": "display_data"
        },
        {
          "data": {
            "image/png": "[encoded data removed]",
            "text/plain": [
              "<Figure size 640x480 with 1 Axes>"
            ]
          },
          "metadata": {},
          "output_type": "display_data"
        },
        {
          "data": {
            "image/png": "[encoded data removed]",
            "text/plain": [
              "<Figure size 640x480 with 1 Axes>"
            ]
          },
          "metadata": {},
          "output_type": "display_data"
        }
      ],
      "source": [
        "for i, epoch in enumerate(training_epochs,1):\n",
        "    plt.plot(learning_curve[i]['epochs'], learning_curve[i]['train_losses'], label=f'Training Loss (epochs = {epoch})')\n",
        "    plt.plot(learning_curve[i]['epochs'], learning_curve[i]['validation_losses'], label=f'Validation Loss (epochs = {epoch})')\n",
        "    plt.xlabel('Epochs')\n",
        "    plt.ylabel('Loss')\n",
        "    plt.legend()\n",
        "    plt.show()"
      ]
    },
    {
      "cell_type": "markdown",
      "metadata": {
        "id": "PdjygAPa17_V"
      },
      "source": [
        "**Inference** : Optimal number of epochs based on learning curve is 7"
      ]
    },
    {
      "cell_type": "markdown",
      "metadata": {},
      "source": [
        "**Tuning learning rate**"
      ]
    },
    {
      "cell_type": "code",
      "execution_count": null,
      "metadata": {
        "colab": {
          "referenced_widgets": [
            "ccdde11616a842dfbbb02cbc5b154e55",
            "e18a5bdc66414f639bcbe5f707fa4159",
            "c4d99d3bcb994deeb520a40cc91359ad",
            "86e94830dd174e279e26bede0d242d2e",
            "b4b4e0e192d449bbade29c1aad4c52ee",
            "055c9470200c4caa8260beee30389364",
            "32cf74abf5604f709ba7e9979ce6910d",
            "42871370374b47abb616b98037f5f250",
            "e3601d0cdef4421ebb3e786a8f4dd3a6",
            "5c513fc9ca9349f0bbbf8a911e05bd5d",
            "a51e479bf32e4c7cae779191ad17886c",
            "44a1a1d08b7c45a3be73becd6e3ca5e0",
            "fbff97d1d92a4797824beb28970e2468",
            "2cb0b2d912254a57b730e9c0a1812aaa",
            "f847d78010e949f98cfc354e1e3c88f3",
            "2bc371b3c8ea49ca9b9c08a7bcb49c43",
            "729487263b2744a78b2ce13ebc476fba",
            "20aecefd5a014899bc79aa7934830fa7",
            "b6fb3e051df343459761cbcf61f829aa",
            "d8509e2ee1e04a3cbc08bee026bd82b8",
            "5bd7887d21094ee9bb91312530251aba",
            "2ce0a6d9a29443ceabd4cfebcf5c0b90",
            "57afef6593bb4fefb21c1572f6a4ed5a",
            "8b2ea15ae0214cadbaf691adb8d7e159",
            "feb34713bdb743e6998faca14ccf6f1b",
            "f54140bc904540b692b20dc4ed18a6e7",
            "ae49db834c7747da8b826127a3d8284b",
            "41936018b2904957a535f92ac3cc9408",
            "685d9677004e4a3985b7161af808895a",
            "9e5a906572d341b5a7d0de388bcae063",
            "30f6caf4200e4168a5adafca296f22f6",
            "ad672d92933340eeb0aba4e52d6cd7a5",
            "b27d90af80604a569e7d220e4e48d5c1",
            "7d9d6f1f25744b779ebeb27ac6779392",
            "e900e6627caa406e97e22c627829581f"
          ]
        },
        "collapsed": true,
        "id": "meCZV22-fTmI",
        "outputId": "fe01b82c-b82f-40d8-d7d5-b1df4532274d"
      },
      "outputs": [
        {
          "data": {
            "text/html": [
              "<style>\n",
              "    body {\n",
              "      font-size: 20px;\n",
              "    }\n",
              "  "
            ],
            "text/plain": [
              "<IPython.core.display.HTML object>"
            ]
          },
          "metadata": {},
          "output_type": "display_data"
        },
        {
          "name": "stdout",
          "output_type": "stream",
          "text": [
            "Learning rate: 0.1\n"
          ]
        },
        {
          "data": {
            "application/vnd.jupyter.widget-view+json": {
              "model_id": "ccdde11616a842dfbbb02cbc5b154e55",
              "version_major": 2,
              "version_minor": 0
            },
            "text/plain": [
              "  0%|          | 0/35 [00:00<?, ?it/s]"
            ]
          },
          "metadata": {},
          "output_type": "display_data"
        },
        {
          "name": "stdout",
          "output_type": "stream",
          "text": [
            "| Epoch: 01 | Train Loss: 55.370 | Train Acc: 50.36% | Val. Loss: 77.733 | Val. Acc: 50.00% |\n"
          ]
        },
        {
          "data": {
            "application/vnd.jupyter.widget-view+json": {
              "model_id": "e18a5bdc66414f639bcbe5f707fa4159",
              "version_major": 2,
              "version_minor": 0
            },
            "text/plain": [
              "  0%|          | 0/35 [00:00<?, ?it/s]"
            ]
          },
          "metadata": {},
          "output_type": "display_data"
        },
        {
          "name": "stdout",
          "output_type": "stream",
          "text": [
            "| Epoch: 02 | Train Loss: 54.488 | Train Acc: 48.21% | Val. Loss: 2.844 | Val. Acc: 50.00% |\n"
          ]
        },
        {
          "data": {
            "application/vnd.jupyter.widget-view+json": {
              "model_id": "c4d99d3bcb994deeb520a40cc91359ad",
              "version_major": 2,
              "version_minor": 0
            },
            "text/plain": [
              "  0%|          | 0/35 [00:00<?, ?it/s]"
            ]
          },
          "metadata": {},
          "output_type": "display_data"
        },
        {
          "name": "stdout",
          "output_type": "stream",
          "text": [
            "| Epoch: 03 | Train Loss: 19.480 | Train Acc: 46.79% | Val. Loss: 23.364 | Val. Acc: 50.00% |\n"
          ]
        },
        {
          "data": {
            "application/vnd.jupyter.widget-view+json": {
              "model_id": "86e94830dd174e279e26bede0d242d2e",
              "version_major": 2,
              "version_minor": 0
            },
            "text/plain": [
              "  0%|          | 0/35 [00:00<?, ?it/s]"
            ]
          },
          "metadata": {},
          "output_type": "display_data"
        },
        {
          "name": "stdout",
          "output_type": "stream",
          "text": [
            "| Epoch: 04 | Train Loss: 21.752 | Train Acc: 51.07% | Val. Loss: 5.759 | Val. Acc: 50.00% |\n"
          ]
        },
        {
          "data": {
            "application/vnd.jupyter.widget-view+json": {
              "model_id": "b4b4e0e192d449bbade29c1aad4c52ee",
              "version_major": 2,
              "version_minor": 0
            },
            "text/plain": [
              "  0%|          | 0/35 [00:00<?, ?it/s]"
            ]
          },
          "metadata": {},
          "output_type": "display_data"
        },
        {
          "name": "stdout",
          "output_type": "stream",
          "text": [
            "| Epoch: 05 | Train Loss: 16.691 | Train Acc: 50.98% | Val. Loss: 6.219 | Val. Acc: 50.00% |\n"
          ]
        },
        {
          "data": {
            "application/vnd.jupyter.widget-view+json": {
              "model_id": "055c9470200c4caa8260beee30389364",
              "version_major": 2,
              "version_minor": 0
            },
            "text/plain": [
              "  0%|          | 0/35 [00:00<?, ?it/s]"
            ]
          },
          "metadata": {},
          "output_type": "display_data"
        },
        {
          "name": "stdout",
          "output_type": "stream",
          "text": [
            "| Epoch: 06 | Train Loss: 13.035 | Train Acc: 50.89% | Val. Loss: 11.718 | Val. Acc: 50.00% |\n"
          ]
        },
        {
          "data": {
            "application/vnd.jupyter.widget-view+json": {
              "model_id": "32cf74abf5604f709ba7e9979ce6910d",
              "version_major": 2,
              "version_minor": 0
            },
            "text/plain": [
              "  0%|          | 0/35 [00:00<?, ?it/s]"
            ]
          },
          "metadata": {},
          "output_type": "display_data"
        },
        {
          "name": "stdout",
          "output_type": "stream",
          "text": [
            "| Epoch: 07 | Train Loss: 11.375 | Train Acc: 47.95% | Val. Loss: 6.556 | Val. Acc: 50.00% |\n",
            "Test Loss: 6.613 | Test Acc: 49.57% |\n",
            "\n",
            "Training complete!\n",
            "Learning rate: 0.001\n"
          ]
        },
        {
          "data": {
            "application/vnd.jupyter.widget-view+json": {
              "model_id": "42871370374b47abb616b98037f5f250",
              "version_major": 2,
              "version_minor": 0
            },
            "text/plain": [
              "  0%|          | 0/35 [00:00<?, ?it/s]"
            ]
          },
          "metadata": {},
          "output_type": "display_data"
        },
        {
          "name": "stdout",
          "output_type": "stream",
          "text": [
            "| Epoch: 01 | Train Loss: 1.067 | Train Acc: 49.11% | Val. Loss: 0.699 | Val. Acc: 50.00% |\n"
          ]
        },
        {
          "data": {
            "application/vnd.jupyter.widget-view+json": {
              "model_id": "e3601d0cdef4421ebb3e786a8f4dd3a6",
              "version_major": 2,
              "version_minor": 0
            },
            "text/plain": [
              "  0%|          | 0/35 [00:00<?, ?it/s]"
            ]
          },
          "metadata": {},
          "output_type": "display_data"
        },
        {
          "name": "stdout",
          "output_type": "stream",
          "text": [
            "| Epoch: 02 | Train Loss: 0.801 | Train Acc: 49.55% | Val. Loss: 0.705 | Val. Acc: 50.00% |\n"
          ]
        },
        {
          "data": {
            "application/vnd.jupyter.widget-view+json": {
              "model_id": "5c513fc9ca9349f0bbbf8a911e05bd5d",
              "version_major": 2,
              "version_minor": 0
            },
            "text/plain": [
              "  0%|          | 0/35 [00:00<?, ?it/s]"
            ]
          },
          "metadata": {},
          "output_type": "display_data"
        },
        {
          "name": "stdout",
          "output_type": "stream",
          "text": [
            "| Epoch: 03 | Train Loss: 0.781 | Train Acc: 48.30% | Val. Loss: 0.702 | Val. Acc: 50.00% |\n"
          ]
        },
        {
          "data": {
            "application/vnd.jupyter.widget-view+json": {
              "model_id": "a51e479bf32e4c7cae779191ad17886c",
              "version_major": 2,
              "version_minor": 0
            },
            "text/plain": [
              "  0%|          | 0/35 [00:00<?, ?it/s]"
            ]
          },
          "metadata": {},
          "output_type": "display_data"
        },
        {
          "name": "stdout",
          "output_type": "stream",
          "text": [
            "| Epoch: 04 | Train Loss: 0.784 | Train Acc: 51.43% | Val. Loss: 0.703 | Val. Acc: 50.00% |\n"
          ]
        },
        {
          "data": {
            "application/vnd.jupyter.widget-view+json": {
              "model_id": "44a1a1d08b7c45a3be73becd6e3ca5e0",
              "version_major": 2,
              "version_minor": 0
            },
            "text/plain": [
              "  0%|          | 0/35 [00:00<?, ?it/s]"
            ]
          },
          "metadata": {},
          "output_type": "display_data"
        },
        {
          "name": "stdout",
          "output_type": "stream",
          "text": [
            "| Epoch: 05 | Train Loss: 0.753 | Train Acc: 52.50% | Val. Loss: 0.697 | Val. Acc: 50.00% |\n"
          ]
        },
        {
          "data": {
            "application/vnd.jupyter.widget-view+json": {
              "model_id": "fbff97d1d92a4797824beb28970e2468",
              "version_major": 2,
              "version_minor": 0
            },
            "text/plain": [
              "  0%|          | 0/35 [00:00<?, ?it/s]"
            ]
          },
          "metadata": {},
          "output_type": "display_data"
        },
        {
          "name": "stdout",
          "output_type": "stream",
          "text": [
            "| Epoch: 06 | Train Loss: 0.804 | Train Acc: 48.39% | Val. Loss: 0.732 | Val. Acc: 50.00% |\n"
          ]
        },
        {
          "data": {
            "application/vnd.jupyter.widget-view+json": {
              "model_id": "2cb0b2d912254a57b730e9c0a1812aaa",
              "version_major": 2,
              "version_minor": 0
            },
            "text/plain": [
              "  0%|          | 0/35 [00:00<?, ?it/s]"
            ]
          },
          "metadata": {},
          "output_type": "display_data"
        },
        {
          "name": "stdout",
          "output_type": "stream",
          "text": [
            "| Epoch: 07 | Train Loss: 0.783 | Train Acc: 49.11% | Val. Loss: 0.769 | Val. Acc: 50.00% |\n",
            "Test Loss: 0.765 | Test Acc: 50.43% |\n",
            "\n",
            "Training complete!\n",
            "Learning rate: 1e-05\n"
          ]
        },
        {
          "data": {
            "application/vnd.jupyter.widget-view+json": {
              "model_id": "f847d78010e949f98cfc354e1e3c88f3",
              "version_major": 2,
              "version_minor": 0
            },
            "text/plain": [
              "  0%|          | 0/35 [00:00<?, ?it/s]"
            ]
          },
          "metadata": {},
          "output_type": "display_data"
        },
        {
          "name": "stdout",
          "output_type": "stream",
          "text": [
            "| Epoch: 01 | Train Loss: 0.599 | Train Acc: 64.46% | Val. Loss: 0.396 | Val. Acc: 84.03% |\n"
          ]
        },
        {
          "data": {
            "application/vnd.jupyter.widget-view+json": {
              "model_id": "2bc371b3c8ea49ca9b9c08a7bcb49c43",
              "version_major": 2,
              "version_minor": 0
            },
            "text/plain": [
              "  0%|          | 0/35 [00:00<?, ?it/s]"
            ]
          },
          "metadata": {},
          "output_type": "display_data"
        },
        {
          "name": "stdout",
          "output_type": "stream",
          "text": [
            "| Epoch: 02 | Train Loss: 0.387 | Train Acc: 83.84% | Val. Loss: 0.435 | Val. Acc: 83.80% |\n"
          ]
        },
        {
          "data": {
            "application/vnd.jupyter.widget-view+json": {
              "model_id": "729487263b2744a78b2ce13ebc476fba",
              "version_major": 2,
              "version_minor": 0
            },
            "text/plain": [
              "  0%|          | 0/35 [00:00<?, ?it/s]"
            ]
          },
          "metadata": {},
          "output_type": "display_data"
        },
        {
          "name": "stdout",
          "output_type": "stream",
          "text": [
            "| Epoch: 03 | Train Loss: 0.210 | Train Acc: 92.50% | Val. Loss: 0.497 | Val. Acc: 82.99% |\n"
          ]
        },
        {
          "data": {
            "application/vnd.jupyter.widget-view+json": {
              "model_id": "20aecefd5a014899bc79aa7934830fa7",
              "version_major": 2,
              "version_minor": 0
            },
            "text/plain": [
              "  0%|          | 0/35 [00:00<?, ?it/s]"
            ]
          },
          "metadata": {},
          "output_type": "display_data"
        },
        {
          "name": "stdout",
          "output_type": "stream",
          "text": [
            "| Epoch: 04 | Train Loss: 0.104 | Train Acc: 97.05% | Val. Loss: 0.524 | Val. Acc: 83.68% |\n"
          ]
        },
        {
          "data": {
            "application/vnd.jupyter.widget-view+json": {
              "model_id": "b6fb3e051df343459761cbcf61f829aa",
              "version_major": 2,
              "version_minor": 0
            },
            "text/plain": [
              "  0%|          | 0/35 [00:00<?, ?it/s]"
            ]
          },
          "metadata": {},
          "output_type": "display_data"
        },
        {
          "name": "stdout",
          "output_type": "stream",
          "text": [
            "| Epoch: 05 | Train Loss: 0.055 | Train Acc: 98.39% | Val. Loss: 0.706 | Val. Acc: 82.75% |\n"
          ]
        },
        {
          "data": {
            "application/vnd.jupyter.widget-view+json": {
              "model_id": "d8509e2ee1e04a3cbc08bee026bd82b8",
              "version_major": 2,
              "version_minor": 0
            },
            "text/plain": [
              "  0%|          | 0/35 [00:00<?, ?it/s]"
            ]
          },
          "metadata": {},
          "output_type": "display_data"
        },
        {
          "name": "stdout",
          "output_type": "stream",
          "text": [
            "| Epoch: 06 | Train Loss: 0.027 | Train Acc: 99.29% | Val. Loss: 0.694 | Val. Acc: 83.10% |\n"
          ]
        },
        {
          "data": {
            "application/vnd.jupyter.widget-view+json": {
              "model_id": "5bd7887d21094ee9bb91312530251aba",
              "version_major": 2,
              "version_minor": 0
            },
            "text/plain": [
              "  0%|          | 0/35 [00:00<?, ?it/s]"
            ]
          },
          "metadata": {},
          "output_type": "display_data"
        },
        {
          "name": "stdout",
          "output_type": "stream",
          "text": [
            "| Epoch: 07 | Train Loss: 0.016 | Train Acc: 99.64% | Val. Loss: 0.699 | Val. Acc: 83.33% |\n",
            "Test Loss: 0.659 | Test Acc: 86.02% |\n",
            "\n",
            "Training complete!\n",
            "Learning rate: 2e-05\n"
          ]
        },
        {
          "data": {
            "application/vnd.jupyter.widget-view+json": {
              "model_id": "2ce0a6d9a29443ceabd4cfebcf5c0b90",
              "version_major": 2,
              "version_minor": 0
            },
            "text/plain": [
              "  0%|          | 0/35 [00:00<?, ?it/s]"
            ]
          },
          "metadata": {},
          "output_type": "display_data"
        },
        {
          "name": "stdout",
          "output_type": "stream",
          "text": [
            "| Epoch: 01 | Train Loss: 0.604 | Train Acc: 64.55% | Val. Loss: 0.414 | Val. Acc: 80.67% |\n"
          ]
        },
        {
          "data": {
            "application/vnd.jupyter.widget-view+json": {
              "model_id": "57afef6593bb4fefb21c1572f6a4ed5a",
              "version_major": 2,
              "version_minor": 0
            },
            "text/plain": [
              "  0%|          | 0/35 [00:00<?, ?it/s]"
            ]
          },
          "metadata": {},
          "output_type": "display_data"
        },
        {
          "name": "stdout",
          "output_type": "stream",
          "text": [
            "| Epoch: 02 | Train Loss: 0.357 | Train Acc: 85.62% | Val. Loss: 0.383 | Val. Acc: 86.57% |\n"
          ]
        },
        {
          "data": {
            "application/vnd.jupyter.widget-view+json": {
              "model_id": "8b2ea15ae0214cadbaf691adb8d7e159",
              "version_major": 2,
              "version_minor": 0
            },
            "text/plain": [
              "  0%|          | 0/35 [00:00<?, ?it/s]"
            ]
          },
          "metadata": {},
          "output_type": "display_data"
        },
        {
          "name": "stdout",
          "output_type": "stream",
          "text": [
            "| Epoch: 03 | Train Loss: 0.166 | Train Acc: 93.39% | Val. Loss: 0.543 | Val. Acc: 80.79% |\n"
          ]
        },
        {
          "data": {
            "application/vnd.jupyter.widget-view+json": {
              "model_id": "feb34713bdb743e6998faca14ccf6f1b",
              "version_major": 2,
              "version_minor": 0
            },
            "text/plain": [
              "  0%|          | 0/35 [00:00<?, ?it/s]"
            ]
          },
          "metadata": {},
          "output_type": "display_data"
        },
        {
          "name": "stdout",
          "output_type": "stream",
          "text": [
            "| Epoch: 04 | Train Loss: 0.073 | Train Acc: 97.59% | Val. Loss: 0.594 | Val. Acc: 83.56% |\n"
          ]
        },
        {
          "data": {
            "application/vnd.jupyter.widget-view+json": {
              "model_id": "f54140bc904540b692b20dc4ed18a6e7",
              "version_major": 2,
              "version_minor": 0
            },
            "text/plain": [
              "  0%|          | 0/35 [00:00<?, ?it/s]"
            ]
          },
          "metadata": {},
          "output_type": "display_data"
        },
        {
          "name": "stdout",
          "output_type": "stream",
          "text": [
            "| Epoch: 05 | Train Loss: 0.014 | Train Acc: 99.55% | Val. Loss: 0.753 | Val. Acc: 82.87% |\n"
          ]
        },
        {
          "data": {
            "application/vnd.jupyter.widget-view+json": {
              "model_id": "ae49db834c7747da8b826127a3d8284b",
              "version_major": 2,
              "version_minor": 0
            },
            "text/plain": [
              "  0%|          | 0/35 [00:00<?, ?it/s]"
            ]
          },
          "metadata": {},
          "output_type": "display_data"
        },
        {
          "name": "stdout",
          "output_type": "stream",
          "text": [
            "| Epoch: 06 | Train Loss: 0.010 | Train Acc: 99.64% | Val. Loss: 0.795 | Val. Acc: 82.75% |\n"
          ]
        },
        {
          "data": {
            "application/vnd.jupyter.widget-view+json": {
              "model_id": "41936018b2904957a535f92ac3cc9408",
              "version_major": 2,
              "version_minor": 0
            },
            "text/plain": [
              "  0%|          | 0/35 [00:00<?, ?it/s]"
            ]
          },
          "metadata": {},
          "output_type": "display_data"
        },
        {
          "name": "stdout",
          "output_type": "stream",
          "text": [
            "| Epoch: 07 | Train Loss: 0.005 | Train Acc: 99.91% | Val. Loss: 0.936 | Val. Acc: 81.94% |\n",
            "Test Loss: 0.765 | Test Acc: 84.46% |\n",
            "\n",
            "Training complete!\n",
            "Learning rate: 2e-06\n"
          ]
        },
        {
          "data": {
            "application/vnd.jupyter.widget-view+json": {
              "model_id": "685d9677004e4a3985b7161af808895a",
              "version_major": 2,
              "version_minor": 0
            },
            "text/plain": [
              "  0%|          | 0/35 [00:00<?, ?it/s]"
            ]
          },
          "metadata": {},
          "output_type": "display_data"
        },
        {
          "name": "stdout",
          "output_type": "stream",
          "text": [
            "| Epoch: 01 | Train Loss: 0.673 | Train Acc: 57.86% | Val. Loss: 0.605 | Val. Acc: 67.48% |\n"
          ]
        },
        {
          "data": {
            "application/vnd.jupyter.widget-view+json": {
              "model_id": "9e5a906572d341b5a7d0de388bcae063",
              "version_major": 2,
              "version_minor": 0
            },
            "text/plain": [
              "  0%|          | 0/35 [00:00<?, ?it/s]"
            ]
          },
          "metadata": {},
          "output_type": "display_data"
        },
        {
          "name": "stdout",
          "output_type": "stream",
          "text": [
            "| Epoch: 02 | Train Loss: 0.519 | Train Acc: 76.96% | Val. Loss: 0.473 | Val. Acc: 77.78% |\n"
          ]
        },
        {
          "data": {
            "application/vnd.jupyter.widget-view+json": {
              "model_id": "30f6caf4200e4168a5adafca296f22f6",
              "version_major": 2,
              "version_minor": 0
            },
            "text/plain": [
              "  0%|          | 0/35 [00:00<?, ?it/s]"
            ]
          },
          "metadata": {},
          "output_type": "display_data"
        },
        {
          "name": "stdout",
          "output_type": "stream",
          "text": [
            "| Epoch: 03 | Train Loss: 0.395 | Train Acc: 85.09% | Val. Loss: 0.425 | Val. Acc: 81.60% |\n"
          ]
        },
        {
          "data": {
            "application/vnd.jupyter.widget-view+json": {
              "model_id": "ad672d92933340eeb0aba4e52d6cd7a5",
              "version_major": 2,
              "version_minor": 0
            },
            "text/plain": [
              "  0%|          | 0/35 [00:00<?, ?it/s]"
            ]
          },
          "metadata": {},
          "output_type": "display_data"
        },
        {
          "name": "stdout",
          "output_type": "stream",
          "text": [
            "| Epoch: 04 | Train Loss: 0.307 | Train Acc: 89.20% | Val. Loss: 0.457 | Val. Acc: 82.64% |\n"
          ]
        },
        {
          "data": {
            "application/vnd.jupyter.widget-view+json": {
              "model_id": "b27d90af80604a569e7d220e4e48d5c1",
              "version_major": 2,
              "version_minor": 0
            },
            "text/plain": [
              "  0%|          | 0/35 [00:00<?, ?it/s]"
            ]
          },
          "metadata": {},
          "output_type": "display_data"
        },
        {
          "name": "stdout",
          "output_type": "stream",
          "text": [
            "| Epoch: 05 | Train Loss: 0.261 | Train Acc: 90.71% | Val. Loss: 0.415 | Val. Acc: 82.99% |\n"
          ]
        },
        {
          "data": {
            "application/vnd.jupyter.widget-view+json": {
              "model_id": "7d9d6f1f25744b779ebeb27ac6779392",
              "version_major": 2,
              "version_minor": 0
            },
            "text/plain": [
              "  0%|          | 0/35 [00:00<?, ?it/s]"
            ]
          },
          "metadata": {},
          "output_type": "display_data"
        },
        {
          "name": "stdout",
          "output_type": "stream",
          "text": [
            "| Epoch: 06 | Train Loss: 0.191 | Train Acc: 94.38% | Val. Loss: 0.429 | Val. Acc: 83.68% |\n"
          ]
        },
        {
          "data": {
            "application/vnd.jupyter.widget-view+json": {
              "model_id": "e900e6627caa406e97e22c627829581f",
              "version_major": 2,
              "version_minor": 0
            },
            "text/plain": [
              "  0%|          | 0/35 [00:00<?, ?it/s]"
            ]
          },
          "metadata": {},
          "output_type": "display_data"
        },
        {
          "name": "stdout",
          "output_type": "stream",
          "text": [
            "| Epoch: 07 | Train Loss: 0.166 | Train Acc: 95.27% | Val. Loss: 0.457 | Val. Acc: 82.64% |\n",
            "Test Loss: 0.425 | Test Acc: 84.20% |\n",
            "\n",
            "Training complete!\n"
          ]
        }
      ],
      "source": [
        "learning_rates = [0.1,1e-3,1e-5,2e-5,2e-6]\n",
        "learning_curve = {}\n",
        "\n",
        "for i, lr in enumerate(learning_rates,1):\n",
        "    print('Learning rate:', lr)\n",
        "    # Initialize the model\n",
        "    bert_model = BertModel.from_pretrained('bert-base-uncased', output_hidden_states = True).to(device)\n",
        "    model = CyberbullyingDetecter(bert_model, Num_classes).to(device)\n",
        "    # Train the model\n",
        "    learning_curve[i] = train_model(model, train_data_loader, val_data_loader, 7, lr, verbose=True)\n",
        "    print('Training complete!')"
      ]
    },
    {
      "cell_type": "markdown",
      "metadata": {
        "id": "n3tnkiZ_0MT-"
      },
      "source": [
        "**Inference** : 1e-5 turned out to be the best learning rate"
      ]
    },
    {
      "cell_type": "code",
      "execution_count": null,
      "metadata": {
        "id": "y6CnEqk3sSVw",
        "outputId": "295ab371-acb8-44a8-e666-486ac5f9c935"
      },
      "outputs": [
        {
          "data": {
            "text/html": [
              "<style>\n",
              "    body {\n",
              "      font-size: 20px;\n",
              "    }\n",
              "  "
            ],
            "text/plain": [
              "<IPython.core.display.HTML object>"
            ]
          },
          "metadata": {},
          "output_type": "display_data"
        },
        {
          "data": {
            "image/png": "[encoded data removed]",
            "text/plain": [
              "<Figure size 640x480 with 1 Axes>"
            ]
          },
          "metadata": {},
          "output_type": "display_data"
        }
      ],
      "source": [
        "for i, lr in enumerate(learning_rates,1):\n",
        "    plt.plot(learning_curve[i][\"epochs\"], np.squeeze(learning_curve[i][\"train_losses\"]), label=learning_curve[i][\"learning_rate\"])\n",
        "\n",
        "plt.ylabel('loss')\n",
        "plt.xlabel('epochs')\n",
        "\n",
        "legend = plt.legend(loc='best', shadow=True)\n",
        "frame = legend.get_frame()\n",
        "frame.set_facecolor('0.90')\n",
        "plt.show()"
      ]
    },
    {
      "cell_type": "markdown",
      "metadata": {
        "id": "9nVbaRZxtg8g"
      },
      "source": [
        "Hyperparameter tuning is crucial for improving AI model performance. Here's what we observed:\n",
        "\n",
        "1. **Number of Epochs:**\n",
        "   - **Before Tuning (5 epochs):** The model undertrained, leading to lower validation accuracy.\n",
        "   - **After Tuning (7 epochs):** Longer training allowed the model to learn better, improving accuracy.\n",
        "\n",
        "2. **Learning Rate:**\n",
        "   - **Before Tuning (2e-5):** The learning rate was suboptimal, limiting performance.\n",
        "   - **After Tuning (1e-5):** A lower learning rate improved training stability and accuracy.\n",
        "\n",
        "3. **Overall Impact:**\n",
        "   - **Before Tuning:** Test accuracy was around 83.25%.\n",
        "   - **After Tuning:** Test accuracy increased to about 86%, showing the importance of adjusting hyperparameters.\n",
        "\n",
        "In summary, fine-tuning the number of epochs and learning rate led to better model performance by allowing it to learn more effectively and converge to a better solution."
      ]
    }
  ],
  "metadata": {
    "accelerator": "GPU",
    "colab": {
      "provenance": []
    },
    "gpuClass": "standard",
    "kernelspec": {
      "display_name": "Python 3 (ipykernel)",
      "language": "python",
      "name": "python3"
    },
    "language_info": {
      "codemirror_mode": {
        "name": "ipython",
        "version": 3
      },
      "file_extension": ".py",
      "mimetype": "text/x-python",
      "name": "python",
      "nbconvert_exporter": "python",
      "pygments_lexer": "ipython3",
      "version": "3.12.7"
    }
  },
  "nbformat": 4,
  "nbformat_minor": 0
}
